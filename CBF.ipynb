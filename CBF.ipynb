{
  "nbformat": 4,
  "nbformat_minor": 0,
  "metadata": {
    "colab": {
      "name": "CBF.ipynb",
      "provenance": [],
      "authorship_tag": "ABX9TyPod3QtDRBoXuV32DqwmkZe",
      "include_colab_link": true
    },
    "kernelspec": {
      "name": "python3",
      "display_name": "Python 3"
    },
    "language_info": {
      "name": "python"
    }
  },
  "cells": [
    {
      "cell_type": "markdown",
      "metadata": {
        "id": "view-in-github",
        "colab_type": "text"
      },
      "source": [
        "<a href=\"https://colab.research.google.com/github/truongvanthanh95/Recommender-System-CDIO/blob/main/CBF.ipynb\" target=\"_parent\"><img src=\"https://colab.research.google.com/assets/colab-badge.svg\" alt=\"Open In Colab\"/></a>"
      ]
    },
    {
      "cell_type": "code",
      "metadata": {
        "colab": {
          "base_uri": "https://localhost:8080/"
        },
        "id": "p7pyudSd4WHm",
        "outputId": "b8d19d8d-b55e-4d18-83a3-c9f446c797c6"
      },
      "source": [
        "!curl https://files.grouplens.org/datasets/movielens/ml-latest-small.zip --output data.zip\n",
        "!unzip data.zip"
      ],
      "execution_count": null,
      "outputs": [
        {
          "output_type": "stream",
          "name": "stdout",
          "text": [
            "  % Total    % Received % Xferd  Average Speed   Time    Time     Time  Current\n",
            "                                 Dload  Upload   Total   Spent    Left  Speed\n",
            "100  955k  100  955k    0     0   419k      0  0:00:02  0:00:02 --:--:--  419k\n",
            "Archive:  data.zip\n",
            "   creating: ml-latest-small/\n",
            "  inflating: ml-latest-small/links.csv  \n",
            "  inflating: ml-latest-small/tags.csv  \n",
            "  inflating: ml-latest-small/ratings.csv  \n",
            "  inflating: ml-latest-small/README.txt  \n",
            "  inflating: ml-latest-small/movies.csv  \n"
          ]
        }
      ]
    },
    {
      "cell_type": "code",
      "metadata": {
        "id": "gO01xh_d4mi1"
      },
      "source": [
        "import pandas as pd\n",
        "import numpy as np\n",
        "import matplotlib.pyplot as plt\n",
        "from sklearn.linear_model import Ridge\n",
        "from sklearn.svm import SVR"
      ],
      "execution_count": null,
      "outputs": []
    },
    {
      "cell_type": "code",
      "metadata": {
        "id": "YBmmewn444wb"
      },
      "source": [
        "ratings = pd.read_csv(\"ml-latest-small/ratings.csv\")\n",
        "tags = pd.read_csv(\"ml-latest-small/tags.csv\")"
      ],
      "execution_count": null,
      "outputs": []
    },
    {
      "cell_type": "code",
      "metadata": {
        "id": "wMJyR6yz49yX"
      },
      "source": [
        "movie_tags = pd.crosstab(tags.movieId, tags.tag)"
      ],
      "execution_count": null,
      "outputs": []
    },
    {
      "cell_type": "code",
      "metadata": {
        "colab": {
          "base_uri": "https://localhost:8080/"
        },
        "id": "DAf_7ngc5H6a",
        "outputId": "81fe9767-4dc6-4fa0-d03e-a77a9908c8db"
      },
      "source": [
        "movie_vectors = movie_tags.to_numpy()\n",
        "from sklearn.preprocessing import StandardScaler\n",
        "movie_vectors = StandardScaler().fit_transform(movie_vectors)\n",
        "print(\"Chiều item profile trước khi giảm chiều: \", movie_vectors.shape)\n",
        "from sklearn.decomposition import PCA\n",
        "pca = PCA(n_components = 50)\n",
        "final_movie_vectors = pca.fit_transform(movie_vectors)\n",
        "print(\"Chiều item profile sau khi giảm chiều: \", final_movie_vectors.shape)"
      ],
      "execution_count": null,
      "outputs": [
        {
          "output_type": "stream",
          "name": "stdout",
          "text": [
            "Chiều item profile trước khi giảm chiều:  (1572, 1589)\n",
            "Chiều item profile sau khi giảm chiều:  (1572, 50)\n"
          ]
        }
      ]
    },
    {
      "cell_type": "code",
      "metadata": {
        "id": "q3_1kl4G5ntM"
      },
      "source": [
        "userId = list(set(ratings.userId.values))\n",
        "movieId_lookup = {}\n",
        "movieId_inver_lookup = {}\n",
        "for idx, movieId in enumerate(list(movie_tags.index)):\n",
        "  movieId_lookup[movieId] = idx\n",
        "  movieId_inver_lookup[idx] = movieId\n",
        "count_ratings = ratings.groupby('userId')['movieId'].count()"
      ],
      "execution_count": null,
      "outputs": []
    },
    {
      "cell_type": "code",
      "metadata": {
        "id": "oJghoKLj55e0"
      },
      "source": [
        "data = ratings.sample(frac=1, random_state=24).reset_index(drop=True)\n",
        "train_movies = {user: set() for user in userId}\n",
        "train_input = {user: [] for user in userId}\n",
        "train_output = {user: [] for user in userId}\n",
        "test_input = {user: [] for user in userId}\n",
        "test_output = {user: [] for user in userId}\n",
        "test_movies = {user: set() for user in userId}\n",
        "cnt_lk = {user: 0 for user in userId}\n",
        "for t in data.values.tolist():\n",
        "  curr_user = t[0]\n",
        "  curr_movie = int(t[1])\n",
        "  curr_ratings = t[2]\n",
        "  if curr_movie not in movieId_lookup:\n",
        "    continue\n",
        "  if count_ratings[curr_user] <= 5:\n",
        "    train_input[curr_user].append(final_movie_vectors[movieId_lookup[curr_movie]])\n",
        "    train_output[curr_user].append(curr_ratings)\n",
        "    train_movies[curr_user].add((curr_movie, curr_ratings))\n",
        "  else:\n",
        "    if cnt_lk[curr_user] < 0.8 * count_ratings[curr_user]:\n",
        "      train_input[curr_user].append(final_movie_vectors[movieId_lookup[curr_movie]])\n",
        "      train_output[curr_user].append(curr_ratings)\n",
        "      train_movies[curr_user].add((curr_movie, curr_ratings))\n",
        "      cnt_lk[curr_user] += 1\n",
        "    else:\n",
        "      test_input[curr_user].append(final_movie_vectors[movieId_lookup[curr_movie]])\n",
        "      test_output[curr_user].append(curr_ratings)\n",
        "      test_movies[curr_user].add((curr_movie, curr_ratings))"
      ],
      "execution_count": null,
      "outputs": []
    },
    {
      "cell_type": "code",
      "metadata": {
        "id": "0yLtlo8x8Hls"
      },
      "source": [
        "AVERAGE_RATING = ratings.rating.mean()\n",
        "RELEVANT_THRESHOLD = 3"
      ],
      "execution_count": null,
      "outputs": []
    },
    {
      "cell_type": "code",
      "metadata": {
        "id": "tqeSdFjN6TtF"
      },
      "source": [
        "class SVRContentRecommender:\n",
        "  def __init__(self, kernel='rbf'):\n",
        "    self.model = {user: SVR(kernel=kernel) for user in userId}\n",
        "  \n",
        "\n",
        "  def fit(self, train_input, train_output):\n",
        "    for user in userId:\n",
        "      if train_input[user]:\n",
        "        self.model[user].fit(train_input[user], train_output[user])\n",
        "\n",
        "\n",
        "  def rmse(self, test_input, test_output):\n",
        "    total = 0\n",
        "    total_cnt = 0\n",
        "    for user in userId:\n",
        "      if test_input[user] and train_input[user]:\n",
        "        test_predict = self.model[user].predict(test_input[user])\n",
        "        for i in range(len(test_predict)):\n",
        "          if test_predict[i] < 1:\n",
        "            test_predict[i] = 1\n",
        "          elif test_predict[i] > 5:\n",
        "            test_predict[i] = 5\n",
        "        test_output[user] = np.array(test_output[user])\n",
        "        total += ((test_predict - test_output[user]) ** 2).sum()\n",
        "        total_cnt += len(test_input[user])\n",
        "    return np.sqrt(total / total_cnt)\n",
        "\n",
        "\n",
        "  def ap10(self, user, train_movies, test_movies):\n",
        "    curr_relevant_set = set()\n",
        "    watched_movies = set()\n",
        "    for entry in test_movies[user]:\n",
        "      if entry[1] >= RELEVANT_THRESHOLD:\n",
        "        curr_relevant_set.add(entry[0])\n",
        "    for entry in train_movies[user]:\n",
        "      watched_movies.add(entry[0])\n",
        "    curr_scores = self.model[user].predict(final_movie_vectors)\n",
        "    sorted_movies = (-curr_scores).argsort()\n",
        "    total_rec = 0\n",
        "    curr_hit = 0\n",
        "    curr_precision = 0\n",
        "    ap = 0\n",
        "    for idx in sorted_movies:\n",
        "      if total_rec == 10:\n",
        "        break\n",
        "      if movieId_inver_lookup[idx] in watched_movies:\n",
        "        continue\n",
        "      total_rec += 1\n",
        "      if movieId_inver_lookup[idx] in curr_relevant_set:\n",
        "        curr_hit += 1\n",
        "        curr_precision += curr_hit / total_rec\n",
        "    if len(curr_relevant_set) > 0:\n",
        "        ap = 1 / len(curr_relevant_set) * curr_precision\n",
        "    return ap\n",
        "\n",
        "  def hitrate_user(self, user, train_movies, test_movies):\n",
        "    total_cnt = len(test_input[user])\n",
        "    watched_movies = set()\n",
        "\n",
        "    for entry in train_movies[user]:\n",
        "      watched_movies.add(entry[0])\n",
        "    goal_movies = set()\n",
        "    for entry in test_movies[user]:\n",
        "      goal_movies.add(entry[0])\n",
        "    curr_scores = self.model[user].predict(final_movie_vectors)\n",
        "    sorted_movies = (-curr_scores).argsort()\n",
        "    total_rec = 0\n",
        "    curr_hit = 0\n",
        "    for idx in sorted_movies:\n",
        "      if total_rec == 10:\n",
        "        break\n",
        "      if movieId_inver_lookup[idx] in watched_movies:\n",
        "        continue\n",
        "      total_rec += 1\n",
        "      if movieId_inver_lookup[idx] in goal_movies:\n",
        "        curr_hit += 1 / total_rec\n",
        "        break\n",
        "    return curr_hit\n",
        "\n",
        "  def hitrate(self, train_movies, test_movies):\n",
        "    hit = 0\n",
        "    for user in userId:\n",
        "      hit += self.hitrate_user(user, train_movies, test_movies)\n",
        "    return hit / len(userId)\n",
        "\n",
        "  def map10(self, train_movies, test_movies):\n",
        "    map = 0\n",
        "    for user in userId:\n",
        "      map += self.ap10(user, train_movies, test_movies)\n",
        "    return map / len(userId)\n",
        "\n",
        "\n",
        "  def predict(self, user, movie):\n",
        "    if movie not in movieId_lookup:\n",
        "      return AVERAGE_RATING\n",
        "    predict_rating = self.model[user].predict([final_movie_vectors[movieId_lookup[movie]]])\n",
        "    return np.maximum(np.minimum(5, predict_rating), 0.5)[0]"
      ],
      "execution_count": null,
      "outputs": []
    },
    {
      "cell_type": "code",
      "metadata": {
        "id": "eCyhau_082PW"
      },
      "source": [
        "model = SVRContentRecommender()"
      ],
      "execution_count": null,
      "outputs": []
    },
    {
      "cell_type": "code",
      "metadata": {
        "id": "ROvGsZVB86jE"
      },
      "source": [
        "model.fit(train_input, train_output)"
      ],
      "execution_count": null,
      "outputs": []
    },
    {
      "cell_type": "code",
      "metadata": {
        "colab": {
          "base_uri": "https://localhost:8080/"
        },
        "id": "zDS_fTVb9Be-",
        "outputId": "c24ee719-cb29-4716-b7a1-0aeb05600793"
      },
      "source": [
        "model.predict(1, 1)"
      ],
      "execution_count": null,
      "outputs": [
        {
          "output_type": "execute_result",
          "data": {
            "text/plain": [
              "4.902423877299508"
            ]
          },
          "metadata": {},
          "execution_count": 12
        }
      ]
    },
    {
      "cell_type": "code",
      "metadata": {
        "colab": {
          "base_uri": "https://localhost:8080/"
        },
        "id": "-u9HZMeW9u0a",
        "outputId": "a1f939f9-1287-416e-a9c4-83cb4de90455"
      },
      "source": [
        "model.rmse(test_input, test_output)"
      ],
      "execution_count": null,
      "outputs": [
        {
          "output_type": "execute_result",
          "data": {
            "text/plain": [
              "1.0896051673782754"
            ]
          },
          "metadata": {},
          "execution_count": 13
        }
      ]
    },
    {
      "cell_type": "code",
      "metadata": {
        "colab": {
          "base_uri": "https://localhost:8080/"
        },
        "id": "JvYwdyEA-BSe",
        "outputId": "8d58f667-afc0-4261-e603-33ddae0fd2c6"
      },
      "source": [
        "model.map10(train_movies, test_movies)"
      ],
      "execution_count": null,
      "outputs": [
        {
          "output_type": "execute_result",
          "data": {
            "text/plain": [
              "0.0"
            ]
          },
          "metadata": {},
          "execution_count": 14
        }
      ]
    },
    {
      "cell_type": "code",
      "metadata": {
        "colab": {
          "base_uri": "https://localhost:8080/"
        },
        "id": "H9ntvoAjBHJC",
        "outputId": "9e91280e-b8c9-4c5d-9f01-c3180110eb91"
      },
      "source": [
        "model.hitrate(train_movies, test_movies)"
      ],
      "execution_count": null,
      "outputs": [
        {
          "output_type": "execute_result",
          "data": {
            "text/plain": [
              "0.0"
            ]
          },
          "metadata": {},
          "execution_count": 15
        }
      ]
    },
    {
      "cell_type": "code",
      "metadata": {
        "id": "JjP2UD_iDNEw"
      },
      "source": [
        "kernels = ['linear', 'poly', 'rbf', 'sigmoid']\n",
        "rmse = []\n",
        "map10 = []\n",
        "hitrate = []\n",
        "for kernel in kernels:\n",
        "  model = SVRContentRecommender(kernel=kernel)\n",
        "  model.fit(train_input, train_output)\n",
        "  rmse.append(model.rmse(test_input, test_output))\n",
        "  map10.append(model.map10(train_movies, test_movies))\n",
        "  hitrate.append(model.hitrate(train_movies, test_movies))\n",
        "  "
      ],
      "execution_count": null,
      "outputs": []
    },
    {
      "cell_type": "code",
      "metadata": {
        "colab": {
          "base_uri": "https://localhost:8080/",
          "height": 299
        },
        "id": "jcdcPO6_D3hb",
        "outputId": "ee3c6262-298d-431a-d1ed-b7ec839fcf6b"
      },
      "source": [
        "plt.plot(kernels, rmse)\n",
        "plt.xlabel(\"Kernel\")\n",
        "plt.ylabel(\"RMSE\")"
      ],
      "execution_count": null,
      "outputs": [
        {
          "output_type": "execute_result",
          "data": {
            "text/plain": [
              "Text(0, 0.5, 'RMSE')"
            ]
          },
          "metadata": {},
          "execution_count": 39
        },
        {
          "output_type": "display_data",
          "data": {
            "image/png": "[encoded data removed]",
            "text/plain": [
              "<Figure size 432x288 with 1 Axes>"
            ]
          },
          "metadata": {
            "needs_background": "light"
          }
        }
      ]
    },
    {
      "cell_type": "code",
      "metadata": {
        "colab": {
          "base_uri": "https://localhost:8080/",
          "height": 296
        },
        "id": "Y9hofflDD4qW",
        "outputId": "ac662d8b-03bf-4b7d-99b6-fc286776f992"
      },
      "source": [
        "plt.plot(kernels, map10)\n",
        "plt.xlabel(\"Kernel\")\n",
        "plt.ylabel(\"map10\")"
      ],
      "execution_count": null,
      "outputs": [
        {
          "output_type": "execute_result",
          "data": {
            "text/plain": [
              "Text(0, 0.5, 'map10')"
            ]
          },
          "metadata": {},
          "execution_count": 40
        },
        {
          "output_type": "display_data",
          "data": {
            "image/png": "[encoded data removed]",
            "text/plain": [
              "<Figure size 432x288 with 1 Axes>"
            ]
          },
          "metadata": {
            "needs_background": "light"
          }
        }
      ]
    },
    {
      "cell_type": "code",
      "metadata": {
        "colab": {
          "base_uri": "https://localhost:8080/",
          "height": 299
        },
        "id": "up7lih4JD7QI",
        "outputId": "bdb3a713-316b-454b-dfd9-60d9d15ad401"
      },
      "source": [
        "plt.plot(kernels, hitrate)\n",
        "plt.xlabel(\"Kernel\")\n",
        "plt.ylabel(\"hitrate\")"
      ],
      "execution_count": null,
      "outputs": [
        {
          "output_type": "execute_result",
          "data": {
            "text/plain": [
              "Text(0, 0.5, 'hitrate')"
            ]
          },
          "metadata": {},
          "execution_count": 41
        },
        {
          "output_type": "display_data",
          "data": {
            "image/png": "[encoded data removed]",
            "text/plain": [
              "<Figure size 432x288 with 1 Axes>"
            ]
          },
          "metadata": {
            "needs_background": "light"
          }
        }
      ]
    },
    {
      "cell_type": "code",
      "metadata": {
        "id": "QSgIZpTTEiym"
      },
      "source": [
        "class RidgeContentRecommender:\n",
        "  def __init__(self, alpha=1):\n",
        "    self.model = {user: Ridge(alpha=alpha) for user in userId}\n",
        "  \n",
        "\n",
        "  def fit(self, train_input, train_output):\n",
        "    for user in userId:\n",
        "      if train_input[user]:\n",
        "        self.model[user].fit(train_input[user], train_output[user])\n",
        "\n",
        "\n",
        "  def rmse(self, test_input, test_output):\n",
        "    total = 0\n",
        "    total_cnt = 0\n",
        "    for user in userId:\n",
        "      if test_input[user] and train_input[user]:\n",
        "        test_predict = self.model[user].predict(test_input[user])\n",
        "        for i in range(len(test_predict)):\n",
        "          if test_predict[i] < 1:\n",
        "            test_predict[i] = 1\n",
        "          elif test_predict[i] > 5:\n",
        "            test_predict[i] = 5\n",
        "        test_output[user] = np.array(test_output[user])\n",
        "        total += np.sqrt((test_predict - test_output[user]) ** 2).sum()\n",
        "        total_cnt += len(test_input[user])\n",
        "    return total / total_cnt\n",
        "\n",
        "\n",
        "  def ap10(self, user, train_movies, test_movies):\n",
        "    curr_relevant_set = set()\n",
        "    watched_movies = set()\n",
        "    for entry in test_movies[user]:\n",
        "      if entry[1] >= RELEVANT_THRESHOLD:\n",
        "        curr_relevant_set.add(entry[0])\n",
        "    for entry in train_movies[user]:\n",
        "      watched_movies.add(entry[0])\n",
        "    curr_scores = self.model[user].predict(final_movie_vectors)\n",
        "    sorted_movies = (-curr_scores).argsort()\n",
        "    total_rec = 0\n",
        "    curr_hit = 0\n",
        "    curr_precision = 0\n",
        "    ap = 0\n",
        "    for idx in sorted_movies:\n",
        "      if total_rec == 10:\n",
        "        break\n",
        "      if movieId_inver_lookup[idx] in watched_movies:\n",
        "        continue\n",
        "      total_rec += 1\n",
        "      if movieId_inver_lookup[idx] in curr_relevant_set:\n",
        "        curr_hit += 1\n",
        "        curr_precision += curr_hit / total_rec\n",
        "    if len(curr_relevant_set) > 0:\n",
        "        ap = 1 / len(curr_relevant_set) * curr_precision\n",
        "    return ap\n",
        "\n",
        "  def hitrate_user(self, user, train_movies, test_movies):\n",
        "    total_cnt = len(test_input[user])\n",
        "    watched_movies = set()\n",
        "\n",
        "    for entry in train_movies[user]:\n",
        "      watched_movies.add(entry[0])\n",
        "    goal_movies = set()\n",
        "    for entry in test_movies[user]:\n",
        "      goal_movies.add(entry[0])\n",
        "    curr_scores = self.model[user].predict(final_movie_vectors)\n",
        "    sorted_movies = (-curr_scores).argsort()\n",
        "    total_rec = 0\n",
        "    curr_hit = 0\n",
        "    for idx in sorted_movies:\n",
        "      if total_rec == 10:\n",
        "        break\n",
        "      if movieId_inver_lookup[idx] in watched_movies:\n",
        "        continue\n",
        "      total_rec += 1\n",
        "      if movieId_inver_lookup[idx] in goal_movies:\n",
        "        curr_hit += 1 / total_rec\n",
        "        break\n",
        "    return curr_hit\n",
        "\n",
        "  def hitrate(self, train_movies, test_movies):\n",
        "    hit = 0\n",
        "    for user in userId:\n",
        "      hit += self.hitrate_user(user, train_movies, test_movies)\n",
        "    return hit / len(userId)\n",
        "\n",
        "  def map10(self, train_movies, test_movies):\n",
        "    map = 0\n",
        "    for user in userId:\n",
        "      map += self.ap10(user, train_movies, test_movies)\n",
        "    return map / len(userId)\n",
        "\n",
        "\n",
        "  def predict(self, user, movie):\n",
        "    if movie not in movieId_lookup:\n",
        "      return AVERAGE_RATING\n",
        "    predict_rating = self.model[user].predict([final_movie_vectors[movieId_lookup[movie]]])\n",
        "    return np.maximum(np.minimum(5, predict_rating), 0.5)[0]"
      ],
      "execution_count": null,
      "outputs": []
    },
    {
      "cell_type": "code",
      "metadata": {
        "id": "KGIEbnWfE3mp"
      },
      "source": [
        "alphas = np.arange(0.1, 20, 0.5)\n",
        "rmse = []\n",
        "map10 = []\n",
        "hitrate = []\n",
        "for alpha in alphas:\n",
        "  model = RidgeContentRecommender(alpha=alpha)\n",
        "  model.fit(train_input, train_output)\n",
        "  rmse.append(model.rmse(test_input, test_output))\n",
        "  map10.append(model.map10(train_movies, test_movies))\n",
        "  hitrate.append(model.hitrate(train_movies, test_movies))"
      ],
      "execution_count": null,
      "outputs": []
    },
    {
      "cell_type": "code",
      "metadata": {
        "colab": {
          "base_uri": "https://localhost:8080/"
        },
        "id": "lKWffCS4FIRg",
        "outputId": "bce7cbef-e6f6-422e-92c0-81b8e0703bf4"
      },
      "source": [
        "plt.plot(alphas, rmse)\n",
        "plt.xlabel(\"alpha\")\n",
        "plt.ylabel(\"RMSE\")"
      ],
      "execution_count": null,
      "outputs": [
        {
          "output_type": "execute_result",
          "data": {
            "text/plain": [
              "Text(0, 0.5, 'RMSE')"
            ]
          },
          "metadata": {},
          "execution_count": 44
        },
        {
          "output_type": "display_data",
          "data": {
            "image/png": "[encoded data removed]",
            "text/plain": [
              "<Figure size 432x288 with 1 Axes>"
            ]
          },
          "metadata": {
            "needs_background": "light"
          }
        }
      ]
    },
    {
      "cell_type": "code",
      "metadata": {
        "colab": {
          "base_uri": "https://localhost:8080/"
        },
        "id": "qfWL941XFMAA",
        "outputId": "c46c47e8-31e3-49ad-91b7-149a7aa5a2b5"
      },
      "source": [
        "plt.plot(alphas, map10)\n",
        "plt.xlabel(\"Kernel\")\n",
        "plt.ylabel(\"map10\")"
      ],
      "execution_count": null,
      "outputs": [
        {
          "output_type": "execute_result",
          "data": {
            "text/plain": [
              "Text(0, 0.5, 'map10')"
            ]
          },
          "metadata": {},
          "execution_count": 45
        },
        {
          "output_type": "display_data",
          "data": {
            "image/png": "[encoded data removed]",
            "text/plain": [
              "<Figure size 432x288 with 1 Axes>"
            ]
          },
          "metadata": {
            "needs_background": "light"
          }
        }
      ]
    },
    {
      "cell_type": "code",
      "metadata": {
        "colab": {
          "base_uri": "https://localhost:8080/"
        },
        "id": "cuTVoAYJFaB3",
        "outputId": "09a1eec9-514b-46ba-fbba-1310590c1a4b"
      },
      "source": [
        "plt.plot(alphas, hitrate)\n",
        "plt.xlabel(\"alpha\")\n",
        "plt.ylabel(\"hitrate\")"
      ],
      "execution_count": null,
      "outputs": [
        {
          "output_type": "execute_result",
          "data": {
            "text/plain": [
              "Text(0, 0.5, 'hitrate')"
            ]
          },
          "metadata": {},
          "execution_count": 46
        },
        {
          "output_type": "display_data",
          "data": {
            "image/png": "[encoded data removed]",
            "text/plain": [
              "<Figure size 432x288 with 1 Axes>"
            ]
          },
          "metadata": {
            "needs_background": "light"
          }
        }
      ]
    }
  ]
}