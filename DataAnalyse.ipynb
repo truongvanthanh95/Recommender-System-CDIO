{
  "nbformat": 4,
  "nbformat_minor": 0,
  "metadata": {
    "colab": {
      "name": "DataAnalyse.ipynb",
      "provenance": [],
      "authorship_tag": "ABX9TyOxfK1xCb5uJzqFxKMWKnsI",
      "include_colab_link": true
    },
    "kernelspec": {
      "name": "python3",
      "display_name": "Python 3"
    },
    "language_info": {
      "name": "python"
    }
  },
  "cells": [
    {
      "cell_type": "markdown",
      "metadata": {
        "id": "view-in-github",
        "colab_type": "text"
      },
      "source": [
        "<a href=\"https://colab.research.google.com/github/truongvanthanh95/Recommender-System-CDIO/blob/main/DataAnalyse.ipynb\" target=\"_parent\"><img src=\"https://colab.research.google.com/assets/colab-badge.svg\" alt=\"Open In Colab\"/></a>"
      ]
    },
    {
      "cell_type": "code",
      "metadata": {
        "colab": {
          "base_uri": "https://localhost:8080/"
        },
        "id": "X25TT_YzYwpU",
        "outputId": "aa56775c-291b-41b9-e578-bdadf177f9d2"
      },
      "source": [
        "!curl https://files.grouplens.org/datasets/movielens/ml-latest-small.zip --output data.zip\n",
        "!unzip data.zip"
      ],
      "execution_count": null,
      "outputs": [
        {
          "output_type": "stream",
          "name": "stdout",
          "text": [
            "  % Total    % Received % Xferd  Average Speed   Time    Time     Time  Current\n",
            "                                 Dload  Upload   Total   Spent    Left  Speed\n",
            "100  955k  100  955k    0     0   619k      0  0:00:01  0:00:01 --:--:--  619k\n",
            "Archive:  data.zip\n",
            "   creating: ml-latest-small/\n",
            "  inflating: ml-latest-small/links.csv  \n",
            "  inflating: ml-latest-small/tags.csv  \n",
            "  inflating: ml-latest-small/ratings.csv  \n",
            "  inflating: ml-latest-small/README.txt  \n",
            "  inflating: ml-latest-small/movies.csv  \n"
          ]
        }
      ]
    },
    {
      "cell_type": "code",
      "metadata": {
        "id": "6oWJB87yZJC7"
      },
      "source": [
        "import pandas as pd\n",
        "import numpy as np"
      ],
      "execution_count": null,
      "outputs": []
    },
    {
      "cell_type": "code",
      "metadata": {
        "colab": {
          "base_uri": "https://localhost:8080/",
          "height": 206
        },
        "id": "mS_hbqxZY_5L",
        "outputId": "ac48428b-b507-426c-a3a6-d984b7192c8a"
      },
      "source": [
        "ratings = pd.read_csv(\"ml-latest-small/ratings.csv\")\n",
        "ratings.head()"
      ],
      "execution_count": null,
      "outputs": [
        {
          "output_type": "execute_result",
          "data": {
            "text/html": [
              "<div>\n",
              "<style scoped>\n",
              "    .dataframe tbody tr th:only-of-type {\n",
              "        vertical-align: middle;\n",
              "    }\n",
              "\n",
              "    .dataframe tbody tr th {\n",
              "        vertical-align: top;\n",
              "    }\n",
              "\n",
              "    .dataframe thead th {\n",
              "        text-align: right;\n",
              "    }\n",
              "</style>\n",
              "<table border=\"1\" class=\"dataframe\">\n",
              "  <thead>\n",
              "    <tr style=\"text-align: right;\">\n",
              "      <th></th>\n",
              "      <th>userId</th>\n",
              "      <th>movieId</th>\n",
              "      <th>rating</th>\n",
              "      <th>timestamp</th>\n",
              "    </tr>\n",
              "  </thead>\n",
              "  <tbody>\n",
              "    <tr>\n",
              "      <th>0</th>\n",
              "      <td>1</td>\n",
              "      <td>1</td>\n",
              "      <td>4.0</td>\n",
              "      <td>964982703</td>\n",
              "    </tr>\n",
              "    <tr>\n",
              "      <th>1</th>\n",
              "      <td>1</td>\n",
              "      <td>3</td>\n",
              "      <td>4.0</td>\n",
              "      <td>964981247</td>\n",
              "    </tr>\n",
              "    <tr>\n",
              "      <th>2</th>\n",
              "      <td>1</td>\n",
              "      <td>6</td>\n",
              "      <td>4.0</td>\n",
              "      <td>964982224</td>\n",
              "    </tr>\n",
              "    <tr>\n",
              "      <th>3</th>\n",
              "      <td>1</td>\n",
              "      <td>47</td>\n",
              "      <td>5.0</td>\n",
              "      <td>964983815</td>\n",
              "    </tr>\n",
              "    <tr>\n",
              "      <th>4</th>\n",
              "      <td>1</td>\n",
              "      <td>50</td>\n",
              "      <td>5.0</td>\n",
              "      <td>964982931</td>\n",
              "    </tr>\n",
              "  </tbody>\n",
              "</table>\n",
              "</div>"
            ],
            "text/plain": [
              "   userId  movieId  rating  timestamp\n",
              "0       1        1     4.0  964982703\n",
              "1       1        3     4.0  964981247\n",
              "2       1        6     4.0  964982224\n",
              "3       1       47     5.0  964983815\n",
              "4       1       50     5.0  964982931"
            ]
          },
          "metadata": {},
          "execution_count": 4
        }
      ]
    },
    {
      "cell_type": "code",
      "metadata": {
        "id": "YXpRPMm4ZOWY"
      },
      "source": [
        "user_rating_count = ratings.groupby('userId')['movieId'].count()"
      ],
      "execution_count": null,
      "outputs": []
    },
    {
      "cell_type": "code",
      "metadata": {
        "id": "wAZ7Qnq1agzl"
      },
      "source": [
        "user_rating_count = user_rating_count.to_numpy()"
      ],
      "execution_count": null,
      "outputs": []
    },
    {
      "cell_type": "code",
      "metadata": {
        "colab": {
          "base_uri": "https://localhost:8080/"
        },
        "id": "TYNnZCWDambp",
        "outputId": "1e72d75f-d341-48a3-a2a5-9e2a19557fce"
      },
      "source": [
        "print(user_rating_count)"
      ],
      "execution_count": null,
      "outputs": [
        {
          "output_type": "stream",
          "name": "stdout",
          "text": [
            "[ 232   29   39  216   44  314  152   47   46  140   64   32   31   48\n",
            "  135   98  105  502  703  242  443  119  121  110   26   21  135  570\n",
            "   81   34   50  102  156   86   23   60   21   78  100  103  217  440\n",
            "  114   48  399   42  140   33   21  310  359  130   20   33   25   46\n",
            "  476  112  107   22   39  366  271  517   34  345   36 1260   46   62\n",
            "   35   45  210  177   69  119   29   61   64  167   26  227  118  293\n",
            "   34   70   21   56  518   54  575   24   97   56  168   78   36   92\n",
            "   53  148   61   56  377  273  722   33   34   76  127   51  646   65\n",
            "  150   31  112   87  165   22  215   22   58  292   56   50  360   38\n",
            "   22   33  140   28   69  347   35   35  279  111  141   22  194  608\n",
            "  168   38   71  128   23   32   20   48   58   26   59   63  179   34\n",
            "   46  398   21   26   97  437   39   38   23   36   65  190  173   94\n",
            "  269   50   82   26   25   67   24   36  904   77   69   24  118  977\n",
            "   57  134   47  226  258   48   20   66   85   22   35   20  187   32\n",
            "   35  230  363  334  110  403   45   83   27   25   20   26   35  138\n",
            "   89  248   84   22   98  164  613   26  528  207  331  250   75   54\n",
            "   75  507   94   25   65  139   24  862  150  202   65   30   50   44\n",
            "  279  128   76   35   36   93   21  204  150   51 1046   27   23   38\n",
            "   47  127   44  174   20   25   29  152   53   57  210   56  163  180\n",
            "   57  129   29   40   43   31   55 1346  403   41   28   20  176  196\n",
            "   21  237   35   88   36  106  152 1055   24  267   31  446   21  437\n",
            "   41   27   72  939   23   32  114   32   53  216  677  112  975  115\n",
            "  103   64   28  223  340  128   33   53  189  879   35   20   56  107\n",
            "   98   21  270  152   48  255   23  247  168  267   25  154   28   56\n",
            "   77   39  371   28   52   66   59   69   62  164   45   55   37   40\n",
            "  141  294   90  226   26  289  383   41   74   25   97  109   30   21\n",
            "  277   31  185  469  129   93   41  236  100   33   33  133  131   48\n",
            "   36 1218  474  291   34   70  201   68 1027   29   34   81  386   25\n",
            "  123   23   61   28   23   46   36   43   72   48   34   60  120   20\n",
            "   22  141  126  167  127  102   56 2698   94   51   67   93  155  141\n",
            "   37   93   23  138  306   88   84  300   58   58   20  260   22  233\n",
            "   42  106  122  635   21   33   45   20   37   42   77   84   78 1864\n",
            "   38   51   34  202  311   45   57   43   50   59   26   82   27  455\n",
            "   33  138  115  113   22   33  465   80   28   29   37 2108  155   69\n",
            "  600   22  181  836   31  128  728  275   23   56   56  111  648  113\n",
            "   64  121   61   22  265   29   51   35   27   86   45   35   95   87\n",
            "   31   42   21   24  467  108   52   50   32  397   26   26  400   24\n",
            "   26  186   40  200   75  131  500   58  167   73   25   27   22   50\n",
            "   38  520   30   40   47   37   38   42   87  113   76   22   23   64\n",
            "   21   26   21   28  123  188   83   89  578   32   27   56  140  458\n",
            "  505  231  213  157   29   74  385   23   20  191  112  155  299   23\n",
            "   36   20  161   27   73  436   40   56   56   83   61  208  165   56\n",
            "   40  728   54   94  103  232   20  411  443   21 2478  763  101  135\n",
            "  943  100  221 1115  187  831   37 1302]\n"
          ]
        }
      ]
    },
    {
      "cell_type": "code",
      "metadata": {
        "colab": {
          "base_uri": "https://localhost:8080/"
        },
        "id": "D9nbze5dbH_z",
        "outputId": "a24e2ddb-6002-406b-d173-90203af9fa97"
      },
      "source": [
        "print(\"Số lươt rating trung bình:\", user_rating_count.mean())"
      ],
      "execution_count": null,
      "outputs": [
        {
          "output_type": "execute_result",
          "data": {
            "text/plain": [
              "165.30491803278687"
            ]
          },
          "metadata": {},
          "execution_count": 22
        }
      ]
    },
    {
      "cell_type": "code",
      "metadata": {
        "id": "BZrgUEdkZZ8o"
      },
      "source": [
        "import matplotlib.pyplot as plt"
      ],
      "execution_count": null,
      "outputs": []
    },
    {
      "cell_type": "code",
      "metadata": {
        "id": "e_QUCxUccRax"
      },
      "source": [
        "user_rating_count.sort()"
      ],
      "execution_count": null,
      "outputs": []
    },
    {
      "cell_type": "code",
      "metadata": {
        "colab": {
          "base_uri": "https://localhost:8080/",
          "height": 297
        },
        "id": "i93msjboZps1",
        "outputId": "94dfbeaf-9106-4495-8d7b-12e9af24fc43"
      },
      "source": [
        "plt.hist(user_rating_count, bins = 30)\n",
        "plt.xlabel(\"Số lượng rating\") \n",
        "plt.ylabel(\"Số lượng user\")"
      ],
      "execution_count": null,
      "outputs": [
        {
          "output_type": "execute_result",
          "data": {
            "text/plain": [
              "Text(0, 0.5, 'Số lượng user')"
            ]
          },
          "metadata": {},
          "execution_count": 29
        },
        {
          "output_type": "display_data",
          "data": {
            "image/png": "[encoded data removed]",
            "text/plain": [
              "<Figure size 432x288 with 1 Axes>"
            ]
          },
          "metadata": {
            "needs_background": "light"
          }
        }
      ]
    },
    {
      "cell_type": "code",
      "metadata": {
        "id": "_UXICH8GbXs2"
      },
      "source": [
        "movie_rating_count = ratings.groupby('movieId')['userId'].count().to_numpy()"
      ],
      "execution_count": null,
      "outputs": []
    },
    {
      "cell_type": "code",
      "metadata": {
        "colab": {
          "base_uri": "https://localhost:8080/",
          "height": 297
        },
        "id": "DNpyK1zFbkEe",
        "outputId": "acf81616-aa05-43c4-ef80-4158225db49a"
      },
      "source": [
        "plt.hist(movie_rating_count, bins = 30)\n",
        "plt.xlabel(\"Số lượng rating\") \n",
        "plt.ylabel(\"Số lượng phim\")"
      ],
      "execution_count": null,
      "outputs": [
        {
          "output_type": "execute_result",
          "data": {
            "text/plain": [
              "Text(0, 0.5, 'Số lượng phim')"
            ]
          },
          "metadata": {},
          "execution_count": 31
        },
        {
          "output_type": "display_data",
          "data": {
            "image/png": "[encoded data removed]",
            "text/plain": [
              "<Figure size 432x288 with 1 Axes>"
            ]
          },
          "metadata": {
            "needs_background": "light"
          }
        }
      ]
    },
    {
      "cell_type": "code",
      "metadata": {
        "colab": {
          "base_uri": "https://localhost:8080/"
        },
        "id": "kAgQTpXfcrGA",
        "outputId": "a12c0be9-0b79-446e-cbc6-214beb6bf81f"
      },
      "source": [
        "print(\"Số lượt rating trung bình: \", movie_rating_count.mean())"
      ],
      "execution_count": null,
      "outputs": [
        {
          "output_type": "stream",
          "name": "stdout",
          "text": [
            "Số lượt rating trung bình:  10.369806663924312\n"
          ]
        }
      ]
    },
    {
      "cell_type": "code",
      "metadata": {
        "colab": {
          "base_uri": "https://localhost:8080/"
        },
        "id": "Izcea3Ojc_ns",
        "outputId": "659029dc-76df-485f-f5eb-9ff1be9a7569"
      },
      "source": [
        "print(\"Số lượng rating tối đa của 1 bộ phim:\", movie_rating_count.max())\n",
        "print(\"Trung vị số rating: \", np.median(movie_rating_count))"
      ],
      "execution_count": null,
      "outputs": [
        {
          "output_type": "stream",
          "name": "stdout",
          "text": [
            "Số lượng rating tối đa của 1 bộ phim: 329\n",
            "Trung vị số rating:  3.0\n"
          ]
        }
      ]
    },
    {
      "cell_type": "code",
      "metadata": {
        "colab": {
          "base_uri": "https://localhost:8080/"
        },
        "id": "2VKSeXytdhzM",
        "outputId": "ca4dd67b-5c60-42a8-f6e3-bc2cc0bd10e3"
      },
      "source": [
        "print(\"Số lượng rating tối đa của 1 bộ phim:\", user_rating_count.mean())\n",
        "print(\"Trung vị số rating: \", np.median(user_rating_count))"
      ],
      "execution_count": null,
      "outputs": [
        {
          "output_type": "stream",
          "name": "stdout",
          "text": [
            "Số lượng rating tối đa của 1 bộ phim: 165.30491803278687\n",
            "Trung vị số rating:  70.5\n"
          ]
        }
      ]
    },
    {
      "cell_type": "code",
      "metadata": {
        "colab": {
          "base_uri": "https://localhost:8080/"
        },
        "id": "MLO1ptHMeFdN",
        "outputId": "30bef6d0-e328-4250-f1a3-34a607d10ebb"
      },
      "source": [
        "ratings.rating.describe()"
      ],
      "execution_count": null,
      "outputs": [
        {
          "output_type": "execute_result",
          "data": {
            "text/plain": [
              "count    100836.000000\n",
              "mean          3.501557\n",
              "std           1.042529\n",
              "min           0.500000\n",
              "25%           3.000000\n",
              "50%           3.500000\n",
              "75%           4.000000\n",
              "max           5.000000\n",
              "Name: rating, dtype: float64"
            ]
          },
          "metadata": {},
          "execution_count": 37
        }
      ]
    },
    {
      "cell_type": "code",
      "metadata": {
        "colab": {
          "base_uri": "https://localhost:8080/"
        },
        "id": "pMVH0OI_eS-c",
        "outputId": "0b1ea95c-f225-4c51-b034-e49f3b50e2a1"
      },
      "source": [
        "print(\"Số lượng user:\", len(user_rating_count))\n",
        "print(\"Số lượng phim:\", len(movie_rating_count))"
      ],
      "execution_count": null,
      "outputs": [
        {
          "output_type": "stream",
          "name": "stdout",
          "text": [
            "Số lượng user: 610\n",
            "Số lượng phim: 9724\n"
          ]
        }
      ]
    }
  ]
}