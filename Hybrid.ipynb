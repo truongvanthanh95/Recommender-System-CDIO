{
  "nbformat": 4,
  "nbformat_minor": 0,
  "metadata": {
    "colab": {
      "name": "Hybrid.ipynb",
      "provenance": [],
      "authorship_tag": "ABX9TyNgLpnGEIvyenxuYbsZvRvW",
      "include_colab_link": true
    },
    "kernelspec": {
      "name": "python3",
      "display_name": "Python 3"
    },
    "language_info": {
      "name": "python"
    },
    "widgets": {
      "application/vnd.jupyter.widget-state+json": {
        "b1d68b2fb48f4b1bb68bbda1e44bb7a7": {
          "model_module": "@jupyter-widgets/controls",
          "model_name": "HBoxModel",
          "model_module_version": "1.5.0",
          "state": {
            "_view_name": "HBoxView",
            "_dom_classes": [],
            "_model_name": "HBoxModel",
            "_view_module": "@jupyter-widgets/controls",
            "_model_module_version": "1.5.0",
            "_view_count": null,
            "_view_module_version": "1.5.0",
            "box_style": "",
            "layout": "IPY_MODEL_9be393613c424aaea3305675afa3b06f",
            "_model_module": "@jupyter-widgets/controls",
            "children": [
              "IPY_MODEL_e4c72e2dad1b44389d2c13501f8329f4",
              "IPY_MODEL_456d7602218a45528ec0ce87a79bc03a"
            ]
          }
        },
        "9be393613c424aaea3305675afa3b06f": {
          "model_module": "@jupyter-widgets/base",
          "model_name": "LayoutModel",
          "model_module_version": "1.2.0",
          "state": {
            "_view_name": "LayoutView",
            "grid_template_rows": null,
            "right": null,
            "justify_content": null,
            "_view_module": "@jupyter-widgets/base",
            "overflow": null,
            "_model_module_version": "1.2.0",
            "_view_count": null,
            "flex_flow": null,
            "width": null,
            "min_width": null,
            "border": null,
            "align_items": null,
            "bottom": null,
            "_model_module": "@jupyter-widgets/base",
            "top": null,
            "grid_column": null,
            "overflow_y": null,
            "overflow_x": null,
            "grid_auto_flow": null,
            "grid_area": null,
            "grid_template_columns": null,
            "flex": null,
            "_model_name": "LayoutModel",
            "justify_items": null,
            "grid_row": null,
            "max_height": null,
            "align_content": null,
            "visibility": null,
            "align_self": null,
            "height": null,
            "min_height": null,
            "padding": null,
            "grid_auto_rows": null,
            "grid_gap": null,
            "max_width": null,
            "order": null,
            "_view_module_version": "1.2.0",
            "grid_template_areas": null,
            "object_position": null,
            "object_fit": null,
            "grid_auto_columns": null,
            "margin": null,
            "display": null,
            "left": null
          }
        },
        "e4c72e2dad1b44389d2c13501f8329f4": {
          "model_module": "@jupyter-widgets/controls",
          "model_name": "TextModel",
          "model_module_version": "1.5.0",
          "state": {
            "_view_name": "TextView",
            "style": "IPY_MODEL_414cf02504914ced9bd646fef0300821",
            "_dom_classes": [],
            "description": "Id người dùng",
            "_model_name": "TextModel",
            "placeholder": "Nhập id của người dùng(chỉ nhập số):",
            "_view_module": "@jupyter-widgets/controls",
            "_model_module_version": "1.5.0",
            "value": "1",
            "_view_count": null,
            "disabled": false,
            "_view_module_version": "1.5.0",
            "continuous_update": true,
            "description_tooltip": null,
            "_model_module": "@jupyter-widgets/controls",
            "layout": "IPY_MODEL_9e11de61352d4366ae5bbe2bafa19c33"
          }
        },
        "456d7602218a45528ec0ce87a79bc03a": {
          "model_module": "@jupyter-widgets/controls",
          "model_name": "ButtonModel",
          "model_module_version": "1.5.0",
          "state": {
            "_view_name": "ButtonView",
            "style": "IPY_MODEL_3a0fd7cd5d074497bc6522c6b449f395",
            "_dom_classes": [],
            "description": "Xem danh sách",
            "_model_name": "ButtonModel",
            "button_style": "",
            "_view_module": "@jupyter-widgets/controls",
            "_model_module_version": "1.5.0",
            "tooltip": "",
            "_view_count": null,
            "disabled": false,
            "_view_module_version": "1.5.0",
            "layout": "IPY_MODEL_de3310462e544854b24a10c5c3312a54",
            "_model_module": "@jupyter-widgets/controls",
            "icon": "check"
          }
        },
        "414cf02504914ced9bd646fef0300821": {
          "model_module": "@jupyter-widgets/controls",
          "model_name": "DescriptionStyleModel",
          "model_module_version": "1.5.0",
          "state": {
            "_view_name": "StyleView",
            "_model_name": "DescriptionStyleModel",
            "description_width": "",
            "_view_module": "@jupyter-widgets/base",
            "_model_module_version": "1.5.0",
            "_view_count": null,
            "_view_module_version": "1.2.0",
            "_model_module": "@jupyter-widgets/controls"
          }
        },
        "9e11de61352d4366ae5bbe2bafa19c33": {
          "model_module": "@jupyter-widgets/base",
          "model_name": "LayoutModel",
          "model_module_version": "1.2.0",
          "state": {
            "_view_name": "LayoutView",
            "grid_template_rows": null,
            "right": null,
            "justify_content": null,
            "_view_module": "@jupyter-widgets/base",
            "overflow": null,
            "_model_module_version": "1.2.0",
            "_view_count": null,
            "flex_flow": null,
            "width": null,
            "min_width": null,
            "border": null,
            "align_items": null,
            "bottom": null,
            "_model_module": "@jupyter-widgets/base",
            "top": null,
            "grid_column": null,
            "overflow_y": null,
            "overflow_x": null,
            "grid_auto_flow": null,
            "grid_area": null,
            "grid_template_columns": null,
            "flex": null,
            "_model_name": "LayoutModel",
            "justify_items": null,
            "grid_row": null,
            "max_height": null,
            "align_content": null,
            "visibility": null,
            "align_self": null,
            "height": null,
            "min_height": null,
            "padding": null,
            "grid_auto_rows": null,
            "grid_gap": null,
            "max_width": null,
            "order": null,
            "_view_module_version": "1.2.0",
            "grid_template_areas": null,
            "object_position": null,
            "object_fit": null,
            "grid_auto_columns": null,
            "margin": null,
            "display": null,
            "left": null
          }
        },
        "3a0fd7cd5d074497bc6522c6b449f395": {
          "model_module": "@jupyter-widgets/controls",
          "model_name": "ButtonStyleModel",
          "model_module_version": "1.5.0",
          "state": {
            "_view_name": "StyleView",
            "_model_name": "ButtonStyleModel",
            "_view_module": "@jupyter-widgets/base",
            "_model_module_version": "1.5.0",
            "_view_count": null,
            "button_color": null,
            "font_weight": "",
            "_view_module_version": "1.2.0",
            "_model_module": "@jupyter-widgets/controls"
          }
        },
        "de3310462e544854b24a10c5c3312a54": {
          "model_module": "@jupyter-widgets/base",
          "model_name": "LayoutModel",
          "model_module_version": "1.2.0",
          "state": {
            "_view_name": "LayoutView",
            "grid_template_rows": null,
            "right": null,
            "justify_content": null,
            "_view_module": "@jupyter-widgets/base",
            "overflow": null,
            "_model_module_version": "1.2.0",
            "_view_count": null,
            "flex_flow": null,
            "width": null,
            "min_width": null,
            "border": null,
            "align_items": null,
            "bottom": null,
            "_model_module": "@jupyter-widgets/base",
            "top": null,
            "grid_column": null,
            "overflow_y": null,
            "overflow_x": null,
            "grid_auto_flow": null,
            "grid_area": null,
            "grid_template_columns": null,
            "flex": null,
            "_model_name": "LayoutModel",
            "justify_items": null,
            "grid_row": null,
            "max_height": null,
            "align_content": null,
            "visibility": null,
            "align_self": null,
            "height": null,
            "min_height": null,
            "padding": null,
            "grid_auto_rows": null,
            "grid_gap": null,
            "max_width": null,
            "order": null,
            "_view_module_version": "1.2.0",
            "grid_template_areas": null,
            "object_position": null,
            "object_fit": null,
            "grid_auto_columns": null,
            "margin": null,
            "display": null,
            "left": null
          }
        },
        "fe952f58892347289d9555156f34c7c2": {
          "model_module": "@jupyter-widgets/controls",
          "model_name": "TextareaModel",
          "model_module_version": "1.5.0",
          "state": {
            "_view_name": "TextareaView",
            "style": "IPY_MODEL_e7a09375844849ac9d7f32078c47cfa2",
            "rows": null,
            "_dom_classes": [],
            "description": "Phim đã xem:",
            "_model_name": "TextareaModel",
            "placeholder": "",
            "_view_module": "@jupyter-widgets/controls",
            "_model_module_version": "1.5.0",
            "value": "Psycho (1960)\nBlues Brothers, The (1980)\nBig Lebowski, The (1998)\nForrest Gump (1994)\nPrincess Bride, The (1987)\nThat Thing You Do! (1996)\nJFK (1991)\nYoung Frankenstein (1974)\nJurassic Park (1993)\nLast of the Mohicans, The (1992)\nFight Club (1999)\nAlice in Wonderland (1951)\nSilence of the Lambs, The (1991)\nOffice Space (1999)\nDumbo (1941)\nMatrix, The (1999)\nStar Wars: Episode V - The Empire Strikes Back (1980)\nFargo (1996)\nE.T. the Extra-Terrestrial (1982)\nIndependence Day (a.k.a. ID4) (1996)\nGrosse Pointe Blank (1997)\nDances with Wolves (1990)\nEdward Scissorhands (1990)\nFrankenstein (1931)\nRock, The (1996)\nMen in Black (a.k.a. MIB) (1997)\nMission: Impossible (1996)\nMrs. Doubtfire (1993)\nGreen Mile, The (1999)\nBilly Madison (1995)\nTerminator, The (1984)\nTwister (1996)\nLord of the Rings, The (1978)\nClockwork Orange, A (1971)\nPlanet of the Apes (1968)\nStar Wars: Episode VI - Return of the Jedi (1983)\nGoodfellas (1990)\nThree Musketeers, The (1993)\nVery Bad Things (1998)\nApocalypse Now (1979)\nSword in the Stone, The (1963)\nFugitive, The (1993)\nSeven (a.k.a. Se7en) (1995)\nWedding Singer, The (1998)\nHoney, I Shrunk the Kids (1989)\nMonty Python and the Holy Grail (1975)\nSo I Married an Axe Murderer (1993)\nGame, The (1997)\nExcalibur (1981)\nBack to the Future (1985)\nSaving Private Ryan (1998)\nSneakers (1992)\nBig (1988)\nNosferatu (Nosferatu, eine Symphonie des Grauens) (1922)\nHook (1991)\nReservoir Dogs (1992)\nSecret of NIMH, The (1982)\nCrocodile Dundee (1986)\nX-Men (2000)\nPulp Fiction (1994)\nSuperman (1978)\nTalented Mr. Ripley, The (1999)\nBatman (1989)\nSouth Park: Bigger, Longer and Uncut (1999)\nPinocchio (1940)\nFantasia (1940)\nFull Metal Jacket (1987)\nIndiana Jones and the Temple of Doom (1984)\nBlazing Saddles (1974)\nIndiana Jones and the Last Crusade (1989)\nDick Tracy (1990)\nAdventures of Robin Hood, The (1938)\nJungle Book, The (1967)\nCitizen Kane (1941)\nAlien (1979)\nFew Good Men, A (1992)\nFace/Off (1997)\nRaiders of the Lost Ark (Indiana Jones and the Raiders of the Lost Ark) (1981)\nStar Wars: Episode IV - A New Hope (1977)\nToy Story (1995)\nNegotiator, The (1998)\nBatman Returns (1992)\nWizard of Oz, The (1939)\nBraveheart (1995)\nDogma (1999)\nShining, The (1980)\nGrumpier Old Men (1995)\nL.A. Confidential (1997)\nSuperman II (1980)\nBottle Rocket (1996)\nAmerican History X (1998)\nMr. Smith Goes to Washington (1939)\nClerks (1994)\nSchindler's List (1993)\nGhostbusters (a.k.a. Ghost Busters) (1984)\nSpace Jam (1996)\nEd Wood (1994)\nPete's Dragon (1977)\nPredator (1987)\nScream 3 (2000)\nRocky (1976)\nIron Giant, The (1999)\nPlatoon (1986)\nWho Framed Roger Rabbit? (1988)\nRun Lola Run (Lola rennt) (1998)\nUsual Suspects, The (1995)\nMonty Python's Life of Brian (1979)\nGladiator (2000)\nGhost and Mrs. Muir, The (1947)\nClear and Present Danger (1994)\nHenry V (1989)\nSister Act (1992)\nStar Wars: Episode I - The Phantom Menace (1999)\nStargate (1994)\n",
            "_view_count": null,
            "disabled": true,
            "_view_module_version": "1.5.0",
            "continuous_update": true,
            "description_tooltip": null,
            "_model_module": "@jupyter-widgets/controls",
            "layout": "IPY_MODEL_c23dc24f9dd84e9281aecf68b51acd68"
          }
        },
        "e7a09375844849ac9d7f32078c47cfa2": {
          "model_module": "@jupyter-widgets/controls",
          "model_name": "DescriptionStyleModel",
          "model_module_version": "1.5.0",
          "state": {
            "_view_name": "StyleView",
            "_model_name": "DescriptionStyleModel",
            "description_width": "",
            "_view_module": "@jupyter-widgets/base",
            "_model_module_version": "1.5.0",
            "_view_count": null,
            "_view_module_version": "1.2.0",
            "_model_module": "@jupyter-widgets/controls"
          }
        },
        "c23dc24f9dd84e9281aecf68b51acd68": {
          "model_module": "@jupyter-widgets/base",
          "model_name": "LayoutModel",
          "model_module_version": "1.2.0",
          "state": {
            "_view_name": "LayoutView",
            "grid_template_rows": null,
            "right": null,
            "justify_content": null,
            "_view_module": "@jupyter-widgets/base",
            "overflow": null,
            "_model_module_version": "1.2.0",
            "_view_count": null,
            "flex_flow": null,
            "width": "40%",
            "min_width": null,
            "border": null,
            "align_items": null,
            "bottom": null,
            "_model_module": "@jupyter-widgets/base",
            "top": null,
            "grid_column": null,
            "overflow_y": null,
            "overflow_x": null,
            "grid_auto_flow": null,
            "grid_area": null,
            "grid_template_columns": null,
            "flex": null,
            "_model_name": "LayoutModel",
            "justify_items": null,
            "grid_row": null,
            "max_height": null,
            "align_content": null,
            "visibility": null,
            "align_self": null,
            "height": "200px",
            "min_height": null,
            "padding": null,
            "grid_auto_rows": null,
            "grid_gap": null,
            "max_width": null,
            "order": null,
            "_view_module_version": "1.2.0",
            "grid_template_areas": null,
            "object_position": null,
            "object_fit": null,
            "grid_auto_columns": null,
            "margin": null,
            "display": null,
            "left": null
          }
        },
        "1498b1f339194f1293ccefb3e273cb7f": {
          "model_module": "@jupyter-widgets/controls",
          "model_name": "HBoxModel",
          "model_module_version": "1.5.0",
          "state": {
            "_view_name": "HBoxView",
            "_dom_classes": [],
            "_model_name": "HBoxModel",
            "_view_module": "@jupyter-widgets/controls",
            "_model_module_version": "1.5.0",
            "_view_count": null,
            "_view_module_version": "1.5.0",
            "box_style": "",
            "layout": "IPY_MODEL_4ae33d815c3a458bb2470b57eb1b9801",
            "_model_module": "@jupyter-widgets/controls",
            "children": [
              "IPY_MODEL_bed252c914864623a7dcc777a2b9618b",
              "IPY_MODEL_548ead7c575e4393945820a8c7f50688",
              "IPY_MODEL_a7f01a8b327b42a7b2f1cccec82304b5"
            ]
          }
        },
        "4ae33d815c3a458bb2470b57eb1b9801": {
          "model_module": "@jupyter-widgets/base",
          "model_name": "LayoutModel",
          "model_module_version": "1.2.0",
          "state": {
            "_view_name": "LayoutView",
            "grid_template_rows": null,
            "right": null,
            "justify_content": null,
            "_view_module": "@jupyter-widgets/base",
            "overflow": null,
            "_model_module_version": "1.2.0",
            "_view_count": null,
            "flex_flow": null,
            "width": null,
            "min_width": null,
            "border": null,
            "align_items": null,
            "bottom": null,
            "_model_module": "@jupyter-widgets/base",
            "top": null,
            "grid_column": null,
            "overflow_y": null,
            "overflow_x": null,
            "grid_auto_flow": null,
            "grid_area": null,
            "grid_template_columns": null,
            "flex": null,
            "_model_name": "LayoutModel",
            "justify_items": null,
            "grid_row": null,
            "max_height": null,
            "align_content": null,
            "visibility": null,
            "align_self": null,
            "height": null,
            "min_height": null,
            "padding": null,
            "grid_auto_rows": null,
            "grid_gap": null,
            "max_width": null,
            "order": null,
            "_view_module_version": "1.2.0",
            "grid_template_areas": null,
            "object_position": null,
            "object_fit": null,
            "grid_auto_columns": null,
            "margin": null,
            "display": null,
            "left": null
          }
        },
        "bed252c914864623a7dcc777a2b9618b": {
          "model_module": "@jupyter-widgets/controls",
          "model_name": "TextModel",
          "model_module_version": "1.5.0",
          "state": {
            "_view_name": "TextView",
            "style": "IPY_MODEL_7e13c6f585944c5aa5a8b1de120710dd",
            "_dom_classes": [],
            "description": "Id người dùng",
            "_model_name": "TextModel",
            "placeholder": "Nhập id của người dùng(chỉ nhập số):",
            "_view_module": "@jupyter-widgets/controls",
            "_model_module_version": "1.5.0",
            "value": "1",
            "_view_count": null,
            "disabled": false,
            "_view_module_version": "1.5.0",
            "continuous_update": true,
            "description_tooltip": null,
            "_model_module": "@jupyter-widgets/controls",
            "layout": "IPY_MODEL_d229918cd4dd4852a706fce7be6c5d06"
          }
        },
        "548ead7c575e4393945820a8c7f50688": {
          "model_module": "@jupyter-widgets/controls",
          "model_name": "SelectModel",
          "model_module_version": "1.5.0",
          "state": {
            "_options_labels": [
              "NCF",
              "CBF"
            ],
            "_view_name": "SelectView",
            "style": "IPY_MODEL_d549f71d49b141489239715ff0ec0c97",
            "rows": 5,
            "_dom_classes": [],
            "description": "Mô hình:",
            "_model_name": "SelectModel",
            "index": 1,
            "_view_module": "@jupyter-widgets/controls",
            "_model_module_version": "1.5.0",
            "_view_count": null,
            "disabled": false,
            "_view_module_version": "1.5.0",
            "description_tooltip": null,
            "_model_module": "@jupyter-widgets/controls",
            "layout": "IPY_MODEL_12624e31610b4cfcb2f24df60851c9e8"
          }
        },
        "a7f01a8b327b42a7b2f1cccec82304b5": {
          "model_module": "@jupyter-widgets/controls",
          "model_name": "ButtonModel",
          "model_module_version": "1.5.0",
          "state": {
            "_view_name": "ButtonView",
            "style": "IPY_MODEL_b65519b095a241a7914f8e8481e277cd",
            "_dom_classes": [],
            "description": "Xem gợi ý",
            "_model_name": "ButtonModel",
            "button_style": "",
            "_view_module": "@jupyter-widgets/controls",
            "_model_module_version": "1.5.0",
            "tooltip": "",
            "_view_count": null,
            "disabled": false,
            "_view_module_version": "1.5.0",
            "layout": "IPY_MODEL_fd4affa858664ba1948994e9a58bc1fa",
            "_model_module": "@jupyter-widgets/controls",
            "icon": "check"
          }
        },
        "7e13c6f585944c5aa5a8b1de120710dd": {
          "model_module": "@jupyter-widgets/controls",
          "model_name": "DescriptionStyleModel",
          "model_module_version": "1.5.0",
          "state": {
            "_view_name": "StyleView",
            "_model_name": "DescriptionStyleModel",
            "description_width": "",
            "_view_module": "@jupyter-widgets/base",
            "_model_module_version": "1.5.0",
            "_view_count": null,
            "_view_module_version": "1.2.0",
            "_model_module": "@jupyter-widgets/controls"
          }
        },
        "d229918cd4dd4852a706fce7be6c5d06": {
          "model_module": "@jupyter-widgets/base",
          "model_name": "LayoutModel",
          "model_module_version": "1.2.0",
          "state": {
            "_view_name": "LayoutView",
            "grid_template_rows": null,
            "right": null,
            "justify_content": null,
            "_view_module": "@jupyter-widgets/base",
            "overflow": null,
            "_model_module_version": "1.2.0",
            "_view_count": null,
            "flex_flow": null,
            "width": null,
            "min_width": null,
            "border": null,
            "align_items": null,
            "bottom": null,
            "_model_module": "@jupyter-widgets/base",
            "top": null,
            "grid_column": null,
            "overflow_y": null,
            "overflow_x": null,
            "grid_auto_flow": null,
            "grid_area": null,
            "grid_template_columns": null,
            "flex": null,
            "_model_name": "LayoutModel",
            "justify_items": null,
            "grid_row": null,
            "max_height": null,
            "align_content": null,
            "visibility": null,
            "align_self": null,
            "height": null,
            "min_height": null,
            "padding": null,
            "grid_auto_rows": null,
            "grid_gap": null,
            "max_width": null,
            "order": null,
            "_view_module_version": "1.2.0",
            "grid_template_areas": null,
            "object_position": null,
            "object_fit": null,
            "grid_auto_columns": null,
            "margin": null,
            "display": null,
            "left": null
          }
        },
        "d549f71d49b141489239715ff0ec0c97": {
          "model_module": "@jupyter-widgets/controls",
          "model_name": "DescriptionStyleModel",
          "model_module_version": "1.5.0",
          "state": {
            "_view_name": "StyleView",
            "_model_name": "DescriptionStyleModel",
            "description_width": "",
            "_view_module": "@jupyter-widgets/base",
            "_model_module_version": "1.5.0",
            "_view_count": null,
            "_view_module_version": "1.2.0",
            "_model_module": "@jupyter-widgets/controls"
          }
        },
        "12624e31610b4cfcb2f24df60851c9e8": {
          "model_module": "@jupyter-widgets/base",
          "model_name": "LayoutModel",
          "model_module_version": "1.2.0",
          "state": {
            "_view_name": "LayoutView",
            "grid_template_rows": null,
            "right": null,
            "justify_content": null,
            "_view_module": "@jupyter-widgets/base",
            "overflow": null,
            "_model_module_version": "1.2.0",
            "_view_count": null,
            "flex_flow": null,
            "width": null,
            "min_width": null,
            "border": null,
            "align_items": null,
            "bottom": null,
            "_model_module": "@jupyter-widgets/base",
            "top": null,
            "grid_column": null,
            "overflow_y": null,
            "overflow_x": null,
            "grid_auto_flow": null,
            "grid_area": null,
            "grid_template_columns": null,
            "flex": null,
            "_model_name": "LayoutModel",
            "justify_items": null,
            "grid_row": null,
            "max_height": null,
            "align_content": null,
            "visibility": null,
            "align_self": null,
            "height": null,
            "min_height": null,
            "padding": null,
            "grid_auto_rows": null,
            "grid_gap": null,
            "max_width": null,
            "order": null,
            "_view_module_version": "1.2.0",
            "grid_template_areas": null,
            "object_position": null,
            "object_fit": null,
            "grid_auto_columns": null,
            "margin": null,
            "display": null,
            "left": null
          }
        },
        "b65519b095a241a7914f8e8481e277cd": {
          "model_module": "@jupyter-widgets/controls",
          "model_name": "ButtonStyleModel",
          "model_module_version": "1.5.0",
          "state": {
            "_view_name": "StyleView",
            "_model_name": "ButtonStyleModel",
            "_view_module": "@jupyter-widgets/base",
            "_model_module_version": "1.5.0",
            "_view_count": null,
            "button_color": null,
            "font_weight": "",
            "_view_module_version": "1.2.0",
            "_model_module": "@jupyter-widgets/controls"
          }
        },
        "fd4affa858664ba1948994e9a58bc1fa": {
          "model_module": "@jupyter-widgets/base",
          "model_name": "LayoutModel",
          "model_module_version": "1.2.0",
          "state": {
            "_view_name": "LayoutView",
            "grid_template_rows": null,
            "right": null,
            "justify_content": null,
            "_view_module": "@jupyter-widgets/base",
            "overflow": null,
            "_model_module_version": "1.2.0",
            "_view_count": null,
            "flex_flow": null,
            "width": null,
            "min_width": null,
            "border": null,
            "align_items": null,
            "bottom": null,
            "_model_module": "@jupyter-widgets/base",
            "top": null,
            "grid_column": null,
            "overflow_y": null,
            "overflow_x": null,
            "grid_auto_flow": null,
            "grid_area": null,
            "grid_template_columns": null,
            "flex": null,
            "_model_name": "LayoutModel",
            "justify_items": null,
            "grid_row": null,
            "max_height": null,
            "align_content": null,
            "visibility": null,
            "align_self": null,
            "height": null,
            "min_height": null,
            "padding": null,
            "grid_auto_rows": null,
            "grid_gap": null,
            "max_width": null,
            "order": null,
            "_view_module_version": "1.2.0",
            "grid_template_areas": null,
            "object_position": null,
            "object_fit": null,
            "grid_auto_columns": null,
            "margin": null,
            "display": null,
            "left": null
          }
        },
        "7434ec94ee274debb1c6274ed2b0cba5": {
          "model_module": "@jupyter-widgets/controls",
          "model_name": "TextareaModel",
          "model_module_version": "1.5.0",
          "state": {
            "_view_name": "TextareaView",
            "style": "IPY_MODEL_e0a82cdfb7e444aa99c259db47a87484",
            "rows": null,
            "_dom_classes": [],
            "description": "Danh sách gợi ý:",
            "_model_name": "TextareaModel",
            "placeholder": "",
            "_view_module": "@jupyter-widgets/controls",
            "_model_module_version": "1.5.0",
            "value": "Departed, The (2006)\nSuperbad (2007)\nSeventh Seal, The (Sjunde inseglet, Det) (1957)\nUpstream Color (2013)\nWild Tales (2014)\nInside Job (2010)\nJohn Wick (2014)\nWALL·E (2008)\nAddams Family Values (1993)\nGreen Lantern (2011)\n",
            "_view_count": null,
            "disabled": true,
            "_view_module_version": "1.5.0",
            "continuous_update": true,
            "description_tooltip": null,
            "_model_module": "@jupyter-widgets/controls",
            "layout": "IPY_MODEL_bb0da787139c40b5b318775e25670616"
          }
        },
        "e0a82cdfb7e444aa99c259db47a87484": {
          "model_module": "@jupyter-widgets/controls",
          "model_name": "DescriptionStyleModel",
          "model_module_version": "1.5.0",
          "state": {
            "_view_name": "StyleView",
            "_model_name": "DescriptionStyleModel",
            "description_width": "",
            "_view_module": "@jupyter-widgets/base",
            "_model_module_version": "1.5.0",
            "_view_count": null,
            "_view_module_version": "1.2.0",
            "_model_module": "@jupyter-widgets/controls"
          }
        },
        "bb0da787139c40b5b318775e25670616": {
          "model_module": "@jupyter-widgets/base",
          "model_name": "LayoutModel",
          "model_module_version": "1.2.0",
          "state": {
            "_view_name": "LayoutView",
            "grid_template_rows": null,
            "right": null,
            "justify_content": null,
            "_view_module": "@jupyter-widgets/base",
            "overflow": null,
            "_model_module_version": "1.2.0",
            "_view_count": null,
            "flex_flow": null,
            "width": "40%",
            "min_width": null,
            "border": null,
            "align_items": null,
            "bottom": null,
            "_model_module": "@jupyter-widgets/base",
            "top": null,
            "grid_column": null,
            "overflow_y": null,
            "overflow_x": null,
            "grid_auto_flow": null,
            "grid_area": null,
            "grid_template_columns": null,
            "flex": null,
            "_model_name": "LayoutModel",
            "justify_items": null,
            "grid_row": null,
            "max_height": null,
            "align_content": null,
            "visibility": null,
            "align_self": null,
            "height": "200px",
            "min_height": null,
            "padding": null,
            "grid_auto_rows": null,
            "grid_gap": null,
            "max_width": null,
            "order": null,
            "_view_module_version": "1.2.0",
            "grid_template_areas": null,
            "object_position": null,
            "object_fit": null,
            "grid_auto_columns": null,
            "margin": null,
            "display": null,
            "left": null
          }
        }
      }
    }
  },
  "cells": [
    {
      "cell_type": "markdown",
      "metadata": {
        "id": "view-in-github",
        "colab_type": "text"
      },
      "source": [
        "<a href=\"https://colab.research.google.com/github/truongvanthanh95/Recommender-System-CDIO/blob/main/Hybrid.ipynb\" target=\"_parent\"><img src=\"https://colab.research.google.com/assets/colab-badge.svg\" alt=\"Open In Colab\"/></a>"
      ]
    },
    {
      "cell_type": "code",
      "metadata": {
        "colab": {
          "base_uri": "https://localhost:8080/"
        },
        "id": "zd8Gwbxje4yu",
        "outputId": "00d75738-5351-4138-929a-bb46f22da477"
      },
      "source": [
        "\n",
        "!curl https://files.grouplens.org/datasets/movielens/ml-latest-small.zip --output data.zip"
      ],
      "execution_count": null,
      "outputs": [
        {
          "output_type": "stream",
          "name": "stdout",
          "text": [
            "  % Total    % Received % Xferd  Average Speed   Time    Time     Time  Current\n",
            "                                 Dload  Upload   Total   Spent    Left  Speed\n",
            "100  955k  100  955k    0     0  2921k      0 --:--:-- --:--:-- --:--:-- 2930k\n"
          ]
        }
      ]
    },
    {
      "cell_type": "code",
      "metadata": {
        "colab": {
          "base_uri": "https://localhost:8080/"
        },
        "id": "gsIrhic_fCIi",
        "outputId": "a2eab2e8-bd5f-495d-bd01-14f7aab23f08"
      },
      "source": [
        "!unzip data.zip"
      ],
      "execution_count": null,
      "outputs": [
        {
          "output_type": "stream",
          "name": "stdout",
          "text": [
            "Archive:  data.zip\n",
            "   creating: ml-latest-small/\n",
            "  inflating: ml-latest-small/links.csv  \n",
            "  inflating: ml-latest-small/tags.csv  \n",
            "  inflating: ml-latest-small/ratings.csv  \n",
            "  inflating: ml-latest-small/README.txt  \n",
            "  inflating: ml-latest-small/movies.csv  \n"
          ]
        }
      ]
    },
    {
      "cell_type": "code",
      "metadata": {
        "id": "LSwRRAfZfEX3",
        "cellView": "form"
      },
      "source": [
        "#@title Read data from csv\n",
        "import pandas as pd\n",
        "import numpy as np\n",
        "ratings = pd.read_csv(\"ml-latest-small/ratings.csv\")\n",
        "tags = pd.read_csv(\"ml-latest-small/tags.csv\")"
      ],
      "execution_count": null,
      "outputs": []
    },
    {
      "cell_type": "code",
      "metadata": {
        "id": "sTn3sYuRfJc_",
        "cellView": "form"
      },
      "source": [
        "#@title Setup \n",
        "movie_tags = pd.crosstab(tags.movieId, tags.tag)\n",
        "movieId_lookup = {}\n",
        "movieId_inver_lookup = {}\n",
        "for idx, movieId in enumerate(list(movie_tags.index)):\n",
        "  movieId_lookup[movieId] = idx\n",
        "  movieId_inver_lookup[idx] = movieId \n",
        "movie_vectors = movie_tags.to_numpy()\n",
        "from sklearn.preprocessing import StandardScaler\n",
        "movie_vectors = StandardScaler().fit_transform(movie_vectors)"
      ],
      "execution_count": null,
      "outputs": []
    },
    {
      "cell_type": "code",
      "metadata": {
        "id": "-o9mletTfNSg",
        "cellView": "form"
      },
      "source": [
        "#@title PCA\n",
        "from sklearn.decomposition import PCA\n",
        "pca = PCA(n_components = 50)\n",
        "final_movie_vectors = pca.fit_transform(movie_vectors)\n",
        "count_ratings = ratings.groupby('userId')['movieId'].count()"
      ],
      "execution_count": null,
      "outputs": []
    },
    {
      "cell_type": "code",
      "metadata": {
        "id": "KbODF8bRfSO4",
        "cellView": "form"
      },
      "source": [
        "#@title Train/test split\n",
        "userId = list(set(ratings.userId.values))\n",
        "data = ratings.sample(frac=1, replace=False).reset_index(drop=True)\n",
        "train_movies = {user: set() for user in userId}\n",
        "train_input = {user: [] for user in userId}\n",
        "train_output = {user: [] for user in userId}\n",
        "test_input = {user: [] for user in userId}\n",
        "test_output = {user: [] for user in userId}\n",
        "test_movies = {user: set() for user in userId}\n",
        "cnt_lk = {user: 0 for user in userId}\n",
        "for t in data.values.tolist():\n",
        "  curr_user = t[0]\n",
        "  curr_movie = int(t[1])\n",
        "  curr_ratings = t[2]\n",
        "  if curr_movie not in movieId_lookup:\n",
        "    continue\n",
        "  if count_ratings[curr_user] <= 5:\n",
        "    train_input[curr_user].append(final_movie_vectors[movieId_lookup[curr_movie]])\n",
        "    train_output[curr_user].append(curr_ratings)\n",
        "    train_movies[curr_user].add((curr_movie, curr_ratings))\n",
        "  else:\n",
        "    if cnt_lk[curr_user] < 0.8 * count_ratings[curr_user]:\n",
        "      train_input[curr_user].append(final_movie_vectors[movieId_lookup[curr_movie]])\n",
        "      train_output[curr_user].append(curr_ratings)\n",
        "      train_movies[curr_user].add((curr_movie, curr_ratings))\n",
        "      cnt_lk[curr_user] += 1\n",
        "    else:\n",
        "      test_input[curr_user].append(final_movie_vectors[movieId_lookup[curr_movie]])\n",
        "      test_output[curr_user].append(curr_ratings)\n",
        "      test_movies[curr_user].add((curr_movie, curr_ratings))"
      ],
      "execution_count": null,
      "outputs": []
    },
    {
      "cell_type": "code",
      "metadata": {
        "id": "0ZGq_u-pfWoQ",
        "cellView": "form"
      },
      "source": [
        "#@title Setup user and movie lookup\n",
        "num_user = len(userId)\n",
        "num_movie = len(movieId_lookup)\n",
        "movies_ncf = {}\n",
        "movies_ncf_inver = {}\n",
        "users_ncf = {}\n",
        "users_ncf_inver = {}\n",
        "tmp_idx = 0\n",
        "for user in userId:\n",
        "  users_ncf[user] = tmp_idx\n",
        "  users_ncf_inver[tmp_idx] = user\n",
        "  tmp_idx += 1\n",
        "tmp_idx = 0\n",
        "for movie in movieId_lookup:\n",
        "  movies_ncf[movie] = tmp_idx\n",
        "  movies_ncf_inver[tmp_idx] = movie\n",
        "  tmp_idx += 1"
      ],
      "execution_count": null,
      "outputs": []
    },
    {
      "cell_type": "code",
      "metadata": {
        "id": "glTD694Hfc0o",
        "cellView": "form"
      },
      "source": [
        "#@title Declare relevant threshold\n",
        "RELEVANT_THRESHOLD = 3.\n",
        "MEAN_RATING = ratings.rating.mean()"
      ],
      "execution_count": null,
      "outputs": []
    },
    {
      "cell_type": "code",
      "metadata": {
        "colab": {
          "base_uri": "https://localhost:8080/",
          "height": 206
        },
        "id": "NJI8rt3ncOsp",
        "cellView": "form",
        "outputId": "a2a46659-b7fc-46ea-e788-d0731983c6fe"
      },
      "source": [
        "#@title Read movie data\n",
        "movies_data = pd.read_csv(\"ml-latest-small/movies.csv\")\n",
        "#movies_data = movies_data.set_index('movieId')\n",
        "movies_data.head()"
      ],
      "execution_count": null,
      "outputs": [
        {
          "output_type": "execute_result",
          "data": {
            "text/html": [
              "<div>\n",
              "<style scoped>\n",
              "    .dataframe tbody tr th:only-of-type {\n",
              "        vertical-align: middle;\n",
              "    }\n",
              "\n",
              "    .dataframe tbody tr th {\n",
              "        vertical-align: top;\n",
              "    }\n",
              "\n",
              "    .dataframe thead th {\n",
              "        text-align: right;\n",
              "    }\n",
              "</style>\n",
              "<table border=\"1\" class=\"dataframe\">\n",
              "  <thead>\n",
              "    <tr style=\"text-align: right;\">\n",
              "      <th></th>\n",
              "      <th>movieId</th>\n",
              "      <th>title</th>\n",
              "      <th>genres</th>\n",
              "    </tr>\n",
              "  </thead>\n",
              "  <tbody>\n",
              "    <tr>\n",
              "      <th>0</th>\n",
              "      <td>1</td>\n",
              "      <td>Toy Story (1995)</td>\n",
              "      <td>Adventure|Animation|Children|Comedy|Fantasy</td>\n",
              "    </tr>\n",
              "    <tr>\n",
              "      <th>1</th>\n",
              "      <td>2</td>\n",
              "      <td>Jumanji (1995)</td>\n",
              "      <td>Adventure|Children|Fantasy</td>\n",
              "    </tr>\n",
              "    <tr>\n",
              "      <th>2</th>\n",
              "      <td>3</td>\n",
              "      <td>Grumpier Old Men (1995)</td>\n",
              "      <td>Comedy|Romance</td>\n",
              "    </tr>\n",
              "    <tr>\n",
              "      <th>3</th>\n",
              "      <td>4</td>\n",
              "      <td>Waiting to Exhale (1995)</td>\n",
              "      <td>Comedy|Drama|Romance</td>\n",
              "    </tr>\n",
              "    <tr>\n",
              "      <th>4</th>\n",
              "      <td>5</td>\n",
              "      <td>Father of the Bride Part II (1995)</td>\n",
              "      <td>Comedy</td>\n",
              "    </tr>\n",
              "  </tbody>\n",
              "</table>\n",
              "</div>"
            ],
            "text/plain": [
              "   movieId  ...                                       genres\n",
              "0        1  ...  Adventure|Animation|Children|Comedy|Fantasy\n",
              "1        2  ...                   Adventure|Children|Fantasy\n",
              "2        3  ...                               Comedy|Romance\n",
              "3        4  ...                         Comedy|Drama|Romance\n",
              "4        5  ...                                       Comedy\n",
              "\n",
              "[5 rows x 3 columns]"
            ]
          },
          "metadata": {},
          "execution_count": 9
        }
      ]
    },
    {
      "cell_type": "code",
      "metadata": {
        "id": "yAEKspUPke25",
        "cellView": "form"
      },
      "source": [
        "#@title MovieID lookup\n",
        "movieId_title = {}\n",
        "for elm in movies_data.values.tolist():\n",
        "  movieId_title[elm[0]] = elm[1]"
      ],
      "execution_count": null,
      "outputs": []
    },
    {
      "cell_type": "code",
      "metadata": {
        "colab": {
          "base_uri": "https://localhost:8080/",
          "height": 253,
          "referenced_widgets": [
            "b1d68b2fb48f4b1bb68bbda1e44bb7a7",
            "9be393613c424aaea3305675afa3b06f",
            "e4c72e2dad1b44389d2c13501f8329f4",
            "456d7602218a45528ec0ce87a79bc03a",
            "414cf02504914ced9bd646fef0300821",
            "9e11de61352d4366ae5bbe2bafa19c33",
            "3a0fd7cd5d074497bc6522c6b449f395",
            "de3310462e544854b24a10c5c3312a54",
            "fe952f58892347289d9555156f34c7c2",
            "e7a09375844849ac9d7f32078c47cfa2",
            "c23dc24f9dd84e9281aecf68b51acd68"
          ]
        },
        "id": "P9powgqgZUFH",
        "cellView": "form",
        "outputId": "957937ca-18f8-4d6f-9d61-2f30f31fd5b7"
      },
      "source": [
        "#@title History form setup\n",
        "import ipywidgets as widgets\n",
        "txtbox = widgets.Text(\n",
        "    value='',\n",
        "    placeholder='Nhập id của người dùng(chỉ nhập số):',\n",
        "    description='Id người dùng',\n",
        "    disabled=False\n",
        ")\n",
        "button = widgets.Button(\n",
        "    description='Xem danh sách',\n",
        "    disabled=False,\n",
        "    button_style='', # 'success', 'info', 'warning', 'danger' or ''\n",
        "    tooltip='',\n",
        "    icon='check' # (FontAwesome names without the `fa-` prefix)\n",
        ")\n",
        "result = widgets.Textarea(\n",
        "    value='',\n",
        "    placeholder='',\n",
        "    description='Phim đã xem:',\n",
        "    disabled=True,\n",
        "    layout = {'width': '40%', 'height': '200px'}\n",
        ")\n",
        "def get_rated_movies(args):\n",
        "  try:\n",
        "    curr_user_id = int(txtbox.value)\n",
        "    #result.close()\n",
        "    result.value = ''\n",
        "    if curr_user_id in userId:\n",
        "      for rated_movie, rating in train_movies[curr_user_id]:\n",
        "        result.value += movieId_title[rated_movie] + \"\\n\"\n",
        "  except:\n",
        "    print(\"Lỗi\")\n",
        "  #print(\"Hello\")\n",
        "button.on_click(get_rated_movies)\n",
        "items = [txtbox, button]\n",
        "box_container = widgets.HBox(items)\n",
        "# result.observe(get_rated_movies, names=['value'])\n",
        "display(box_container)\n",
        "display(result)"
      ],
      "execution_count": null,
      "outputs": [
        {
          "output_type": "display_data",
          "data": {
            "application/vnd.jupyter.widget-view+json": {
              "model_id": "b1d68b2fb48f4b1bb68bbda1e44bb7a7",
              "version_minor": 0,
              "version_major": 2
            },
            "text/plain": [
              "HBox(children=(Text(value='', description='Id người dùng', placeholder='Nhập id của người dùng(chỉ nhập số):')…"
            ]
          },
          "metadata": {}
        },
        {
          "output_type": "display_data",
          "data": {
            "application/vnd.jupyter.widget-view+json": {
              "model_id": "fe952f58892347289d9555156f34c7c2",
              "version_minor": 0,
              "version_major": 2
            },
            "text/plain": [
              "Textarea(value='', description='Phim đã xem:', disabled=True, layout=Layout(height='200px', width='40%'), plac…"
            ]
          },
          "metadata": {}
        }
      ]
    },
    {
      "cell_type": "code",
      "metadata": {
        "id": "nHHap8CLgV5N",
        "cellView": "form"
      },
      "source": [
        "#@title NCF\n",
        "from sklearn.cluster import KMeans\n",
        "from sklearn.neighbors import NearestNeighbors\n",
        "class NCFRecommender:\n",
        "  def __init__(self, num_cluster = 1, num_neighbor = 10, metric=\"ball_tree\"):\n",
        "    self.utility_mat = np.zeros(shape=(num_user, num_movie))\n",
        "    self.num_cluster = num_cluster\n",
        "    self.num_neighbor = num_neighbor\n",
        "    self.users_rating_count = {}\n",
        "    self.metric = metric\n",
        "\n",
        "\n",
        "  def fit(self, train_movies):\n",
        "    for user in userId:\n",
        "      self.users_rating_count[user] = 0\n",
        "      for entry in train_movies[user]:\n",
        "        self.utility_mat[users_ncf[user], movies_ncf[entry[0]]] = entry[1]\n",
        "        self.users_rating_count[user] += 1\n",
        "\n",
        "    kmeans = KMeans(n_clusters = self.num_cluster, random_state=0).fit(self.utility_mat)\n",
        "    self.cluster_elements = [[] for _ in range(self.num_cluster)]\n",
        "    self.cluster_element_vectors = [[] for _ in range(self.num_cluster)]\n",
        "    self.cluster_lookup = {}\n",
        "    self.cluster_inver_lookup = {}\n",
        "    for idx, label in enumerate(kmeans.labels_):\n",
        "      self.cluster_lookup[users_ncf_inver[idx]] = (label, len(self.cluster_elements[label]))\n",
        "      self.cluster_inver_lookup[(label, len(self.cluster_elements[label]))] = users_ncf_inver[idx]\n",
        "      self.cluster_elements[label].append(idx)\n",
        "      self.cluster_element_vectors[label].append(np.array(self.utility_mat[idx]))\n",
        "\n",
        "    self.cluster_neighbors = [NearestNeighbors(n_neighbors=self.num_neighbor + 5, algorithm=self.metric) for _ in range(self.num_cluster)]\n",
        "    self.cluster_indices = []\n",
        "    for cluster in range(self.num_cluster):\n",
        "      # print(np.array(self.cluster_element_vectors[cluster]).shape)\n",
        "      self.cluster_neighbors[cluster].fit(np.array(self.cluster_element_vectors[cluster]))\n",
        "      \n",
        "      distances, indices = self.cluster_neighbors[cluster].kneighbors(np.array(self.cluster_element_vectors[cluster]))\n",
        "      self.cluster_indices.append(indices)\n",
        "    users_total_rating = self.utility_mat.sum(axis = 1)\n",
        "    users_total_count = self.utility_mat.astype('bool').sum(axis = 1)\n",
        "    self.users_mean_rating = users_total_rating / users_total_count\n",
        "  \n",
        "\n",
        "  def predict(self, user, movie):\n",
        "    curr_cluster = self.cluster_lookup[user][0]\n",
        "    curr_idx = self.cluster_lookup[user][1]\n",
        "    count_neighbor = 0\n",
        "    total_rating = 0\n",
        "    total_weight = 0\n",
        "    best = []\n",
        "    for elm in self.cluster_indices[curr_cluster][curr_idx]:\n",
        "      if count_neighbor == self.num_neighbor:\n",
        "        break\n",
        "      nxt_user = self.cluster_inver_lookup[(curr_cluster, elm)]\n",
        "      pearson = np.corrcoef(self.utility_mat[users_ncf[user]], self.utility_mat[users_ncf[nxt_user]])[0, 1]\n",
        "      best.append((pearson, nxt_user, movie))\n",
        "    best.sort(key=lambda x: abs(x[0]))\n",
        "    best.reverse()\n",
        "    for i in range(len(best)):\n",
        "      nxt_user = best[i][1]\n",
        "      pearson = best[i][0]\n",
        "      movie = best[i][2]\n",
        "      if self.utility_mat[users_ncf[nxt_user]][movies_ncf[movie]] != 0:\n",
        "        total_rating += pearson * (self.utility_mat[users_ncf[nxt_user], movies_ncf[movie]] - self.users_mean_rating[users_ncf[nxt_user]])\n",
        "        total_weight += abs(pearson)\n",
        "        count_neighbor += 1\n",
        "    predict_rating = self.users_mean_rating[users_ncf[user]]\n",
        "    if total_weight > 0:\n",
        "      predict_rating = self.users_mean_rating[users_ncf[user]] + total_rating / total_weight\n",
        "    if predict_rating > 5:\n",
        "      predict_rating = 5\n",
        "    if predict_rating <= 0:\n",
        "      predict_rating = 0.5\n",
        "    return predict_rating\n",
        "  \n",
        "  def rmse(self, test_movies):\n",
        "    curr_rmse = 0\n",
        "    count_total = 0\n",
        "    for user in userId:\n",
        "      if len(test_movies[user]) > 0:\n",
        "        count_total += len(test_movies[user])\n",
        "        for entry in test_movies[user]:\n",
        "          curr_movie = entry[0]\n",
        "          curr_rating = entry[1]\n",
        "          predict_rating = self.predict(user, curr_movie)\n",
        "\n",
        "          curr_rmse += (predict_rating - curr_rating) ** 2\n",
        "          # print(predict_rating, curr_rating, curr_rmse)\n",
        "    return np.sqrt(curr_rmse / count_total)\n",
        "  \n",
        "  def ap10(self, user, train_movies, test_movies):\n",
        "    if len(test_movies[user]) > 0:\n",
        "      count_relevant = 0\n",
        "      relevant_set = set()\n",
        "      for elm in test_movies[user]:\n",
        "        if elm[1] >= RELEVANT_THRESHOLD:\n",
        "          relevant_set.add(elm[0])\n",
        "          count_relevant += 1\n",
        "      watched = set()\n",
        "      for elm in train_movies[user]:\n",
        "        watched.add(elm[0])\n",
        "      scores = []\n",
        "      for movie in movieId_lookup:\n",
        "        scores.append(self.predict(user, movie))\n",
        "      scores = np.array(scores)\n",
        "      sorted_movies = (-scores).argsort()\n",
        "      count_rec = 0\n",
        "      precision = 0\n",
        "      rank = 0\n",
        "      for idx in sorted_movies:\n",
        "        if count_rec == 10:\n",
        "          break\n",
        "        if movies_ncf_inver[idx] in watched:\n",
        "          continue\n",
        "        if movies_ncf_inver[idx] in relevant_set:\n",
        "          rank += 1\n",
        "        count_rec += 1\n",
        "        precision += rank / count_rec\n",
        "      if len(relevant_set) > 0:\n",
        "        return precision / len(relevant_set)\n",
        "    return 0\n",
        "\n",
        "  def hitrate_user(self, user, train_movies, test_movies):\n",
        "    hit = 0\n",
        "    if len(test_movies[user]) > 0:\n",
        "      watched = set()\n",
        "      for elm in train_movies[user]:\n",
        "        watched.add(elm[0])\n",
        "      goal_movies = set()\n",
        "      for elm in test_movies[user]:\n",
        "        goal_movies.add(elm[0])\n",
        "      scores = []\n",
        "      for movie in movieId_lookup:\n",
        "        scores.append(self.predict(user, movie))\n",
        "      scores = np.array(scores)\n",
        "      sorted_movies = (-scores).argsort()\n",
        "      count_rec = 0\n",
        "      rank = 0\n",
        "      for idx in sorted_movies:\n",
        "        if count_rec == 10:\n",
        "          break\n",
        "        if movies_ncf_inver[idx] in watched:\n",
        "          continue\n",
        "        rank += 1\n",
        "        if movies_ncf_inver[idx] in goal_movies:\n",
        "          hit += 1 / rank\n",
        "    return hit\n",
        "  \n",
        "  def get_recommendation(self, user, train_movies, test_movies):\n",
        "      watched = set()\n",
        "      for elm in train_movies[user]:\n",
        "        watched.add(elm[0])\n",
        "      scores = []\n",
        "      for movie in movieId_lookup:\n",
        "        scores.append(self.predict(user, movie))\n",
        "      scores = np.array(scores)\n",
        "      sorted_movies = (-scores).argsort()\n",
        "      count_rec = 0\n",
        "      recommendations = []\n",
        "      for idx in sorted_movies:\n",
        "        if count_rec == 10:\n",
        "          break\n",
        "        if movies_ncf_inver[idx] in watched:\n",
        "          continue\n",
        "        recommendations.append(movies_ncf_inver[idx])\n",
        "        count_rec += 1\n",
        "      return recommendations\n",
        "\n",
        "  def map10(self, train_movies, test_movies):\n",
        "    map = 0\n",
        "    for user in userId:\n",
        "      map += self.ap10(user, train_movies, test_movies)\n",
        "    return map / len(userId)\n",
        "  \n",
        "\n",
        "  def hitrate(self, train_movies, test_movies):\n",
        "    mhit = 0\n",
        "    for user in userId:\n",
        "      mhit += self.hitrate_user(user, train_movies, test_movies)\n",
        "    return mhit / len(userId)"
      ],
      "execution_count": null,
      "outputs": []
    },
    {
      "cell_type": "code",
      "metadata": {
        "id": "w26st1Qgg3ND",
        "cellView": "form"
      },
      "source": [
        "#@title CBF\n",
        "from sklearn.linear_model import Ridge\n",
        "class RidgeContentRecommender:\n",
        "  def __init__(self, alpha=1):\n",
        "    self.model = {user: Ridge(alpha=alpha, max_iter=200) for user in userId}\n",
        "  \n",
        "\n",
        "  def fit(self, train_input, train_output):\n",
        "    for user in userId:\n",
        "      if train_input[user]:\n",
        "        self.model[user].fit(train_input[user], train_output[user])\n",
        "\n",
        "\n",
        "  def rmse(self, test_input, test_output):\n",
        "    total = 0\n",
        "    total_cnt = 0\n",
        "    for user in userId:\n",
        "      if test_input[user] and train_input[user]:\n",
        "        test_predict = self.model[user].predict(test_input[user])\n",
        "        for i in range(len(test_predict)):\n",
        "          if test_predict[i] <= 0:\n",
        "            test_predict[i] = 0.5\n",
        "          elif test_predict[i] > 5:\n",
        "            test_predict[i] = 5\n",
        "        test_output[user] = np.array(test_output[user])\n",
        "        total += ((test_predict - test_output[user]) ** 2).sum()\n",
        "        total_cnt += len(test_input[user])\n",
        "    return np.sqrt(total / total_cnt)\n",
        "\n",
        "\n",
        "  def ap10(self, user, train_movies, test_movies):\n",
        "    curr_relevant_set = set()\n",
        "    watched_movies = set()\n",
        "    for entry in test_movies[user]:\n",
        "      if entry[1] >= RELEVANT_THRESHOLD:\n",
        "        curr_relevant_set.add(entry[0])\n",
        "    for entry in train_movies[user]:\n",
        "      watched_movies.add(entry[0])\n",
        "    curr_scores = self.model[user].predict(final_movie_vectors)\n",
        "    sorted_movies = (-curr_scores).argsort()\n",
        "    total_rec = 0\n",
        "    curr_hit = 0\n",
        "    curr_precision = 0\n",
        "    ap = 0\n",
        "    for idx in sorted_movies:\n",
        "      if total_rec == 10:\n",
        "        break\n",
        "      if movieId_inver_lookup[idx] in watched_movies:\n",
        "        continue\n",
        "      total_rec += 1\n",
        "      if movieId_inver_lookup[idx] in curr_relevant_set:\n",
        "        curr_hit += 1\n",
        "        curr_precision += curr_hit / total_rec\n",
        "    if len(curr_relevant_set) > 0:\n",
        "        ap = 1 / len(curr_relevant_set) * curr_precision\n",
        "    return ap\n",
        "\n",
        "  def hitrate_user(self, user, train_movies, test_movies):\n",
        "    total_cnt = len(test_input[user])\n",
        "    watched_movies = set()\n",
        "\n",
        "    for entry in train_movies[user]:\n",
        "      watched_movies.add(entry[0])\n",
        "    goal_movies = set()\n",
        "    for entry in test_movies[user]:\n",
        "      goal_movies.add(entry[0])\n",
        "    curr_scores = self.model[user].predict(final_movie_vectors)\n",
        "    sorted_movies = (-curr_scores).argsort()\n",
        "    total_rec = 0\n",
        "    curr_hit = 0\n",
        "    for idx in sorted_movies:\n",
        "      if total_rec == 10:\n",
        "        break\n",
        "      if movieId_inver_lookup[idx] in watched_movies:\n",
        "        continue\n",
        "      total_rec += 1\n",
        "      if movieId_inver_lookup[idx] in goal_movies:\n",
        "        curr_hit += 1 / total_rec\n",
        "    return curr_hit\n",
        "\n",
        "  def hitrate(self, train_movies, test_movies):\n",
        "    hit = 0\n",
        "    for user in userId:\n",
        "      hit += self.hitrate_user(user, train_movies, test_movies)\n",
        "    return hit / len(userId)\n",
        "\n",
        "  def map10(self, train_movies, test_movies):\n",
        "    map = 0\n",
        "    for user in userId:\n",
        "      map += self.ap10(user, train_movies, test_movies)\n",
        "    return map / len(userId)\n",
        "\n",
        "\n",
        "  def predict(self, user, movie):\n",
        "    if movie not in movieId_lookup:\n",
        "      return 3\n",
        "    predict_rating = self.model[user].predict([final_movie_vectors[movieId_lookup[movie]]])\n",
        "    return np.maximum(np.minimum(5, predict_rating), 0.5)[0]\n",
        "  \n",
        "  def get_recommendation(self, user, train_movies, test_movies):\n",
        "      watched = set()\n",
        "      for elm in train_movies[user]:\n",
        "        watched.add(elm[0])\n",
        "      scores = []\n",
        "      for movie in movieId_lookup:\n",
        "        scores.append(self.predict(user, movie))\n",
        "      scores = np.array(scores)\n",
        "      sorted_movies = (-scores).argsort()\n",
        "      count_rec = 0\n",
        "      recommendations = []\n",
        "      for idx in sorted_movies:\n",
        "        if count_rec == 10:\n",
        "          break\n",
        "        if movies_ncf_inver[idx] in watched:\n",
        "          continue\n",
        "        recommendations.append(movies_ncf_inver[idx])\n",
        "        count_rec += 1\n",
        "      return recommendations"
      ],
      "execution_count": null,
      "outputs": []
    },
    {
      "cell_type": "code",
      "metadata": {
        "id": "Er1Ruu_AhwVL",
        "cellView": "form"
      },
      "source": [
        "#@title generating training data for hybrid method\n",
        "gen_train_input = []\n",
        "gen_train_output = []\n",
        "for user in userId:\n",
        "  for entry in train_movies[user]:\n",
        "    cbf_score = cbf.predict(user, entry[0])\n",
        "    ncf_score = ncf.predict(user, movie)\n",
        "    gen_train_input.append([cbf_score, ncf_score])\n",
        "    gen_train_output.append(entry[1])\n",
        "gen_train_input = np.array(gen_train_input)\n",
        "gen_train_output = np.array(gen_train_output)"
      ],
      "execution_count": null,
      "outputs": []
    },
    {
      "cell_type": "code",
      "metadata": {
        "id": "8u9gO2xWhQ5b",
        "cellView": "form"
      },
      "source": [
        "#@title some model testing\n",
        "cbf = RidgeContentRecommender(alpha=30)\n",
        "cbf.fit(train_input, train_output)\n",
        "ncf = NCFRecommender(num_cluster=3)\n",
        "ncf.fit(train_movies)"
      ],
      "execution_count": null,
      "outputs": []
    },
    {
      "cell_type": "code",
      "metadata": {
        "colab": {
          "base_uri": "https://localhost:8080/",
          "height": 315,
          "referenced_widgets": [
            "1498b1f339194f1293ccefb3e273cb7f",
            "4ae33d815c3a458bb2470b57eb1b9801",
            "bed252c914864623a7dcc777a2b9618b",
            "548ead7c575e4393945820a8c7f50688",
            "a7f01a8b327b42a7b2f1cccec82304b5",
            "7e13c6f585944c5aa5a8b1de120710dd",
            "d229918cd4dd4852a706fce7be6c5d06",
            "d549f71d49b141489239715ff0ec0c97",
            "12624e31610b4cfcb2f24df60851c9e8",
            "b65519b095a241a7914f8e8481e277cd",
            "fd4affa858664ba1948994e9a58bc1fa",
            "7434ec94ee274debb1c6274ed2b0cba5",
            "e0a82cdfb7e444aa99c259db47a87484",
            "bb0da787139c40b5b318775e25670616"
          ]
        },
        "cellView": "form",
        "id": "vHtxxae2wtO8",
        "outputId": "8bab31bd-4da6-4a55-ccfb-902c0d0109bc"
      },
      "source": [
        "#@title Recommendation form\n",
        "search_box = widgets.Text(\n",
        "    value='',\n",
        "    placeholder='Nhập id của người dùng(chỉ nhập số):',\n",
        "    description='Id người dùng',\n",
        "    disabled=False\n",
        ")\n",
        "rec_button = widgets.Button(\n",
        "    description='Xem gợi ý',\n",
        "    disabled=False,\n",
        "    button_style='', # 'success', 'info', 'warning', 'danger' or ''\n",
        "    tooltip='',\n",
        "    icon='check' # (FontAwesome names without the `fa-` prefix)\n",
        ")\n",
        "rec_result = widgets.Textarea(\n",
        "    value='',\n",
        "    placeholder='',\n",
        "    description='Danh sách gợi ý:',\n",
        "    disabled=True,\n",
        "    layout = {'width': '40%', 'height': '200px'}\n",
        ")\n",
        "\n",
        "select_model = widgets.Select(\n",
        "    options=['NCF', 'CBF'],\n",
        "    value='NCF',\n",
        "    # rows=10,\n",
        "    description='Mô hình:',\n",
        "    disabled=False\n",
        ")\n",
        "def get_recommendation_list(args):\n",
        "  try:\n",
        "    curr_user_id = int(search_box.value)\n",
        "    #result.close()\n",
        "    rec_result.value = ''\n",
        "    if curr_user_id in userId:\n",
        "      if select_model.value == 'NCF':\n",
        "        for movie in ncf.get_recommendation(curr_user_id, train_movies, test_movies):\n",
        "          rec_result.value += f'{movieId_title[movie]}\\n'\n",
        "      elif select_model.value == 'CBF':\n",
        "        for movie in cbf.get_recommendation(curr_user_id, train_movies, test_movies):\n",
        "          rec_result.value += f'{movieId_title[movie]}\\n'\n",
        "  except:\n",
        "    print(\"Lỗi\")\n",
        "  #print(\"Hello\")\n",
        "rec_button.on_click(get_recommendation_list)\n",
        "rec_items = [search_box, select_model, rec_button]\n",
        "rec_box_container = widgets.HBox(rec_items)\n",
        "# result.observe(get_rated_movies, names=['value'])\n",
        "display(rec_box_container)\n",
        "display(rec_result)"
      ],
      "execution_count": null,
      "outputs": [
        {
          "output_type": "display_data",
          "data": {
            "application/vnd.jupyter.widget-view+json": {
              "model_id": "1498b1f339194f1293ccefb3e273cb7f",
              "version_minor": 0,
              "version_major": 2
            },
            "text/plain": [
              "HBox(children=(Text(value='', description='Id người dùng', placeholder='Nhập id của người dùng(chỉ nhập số):')…"
            ]
          },
          "metadata": {}
        },
        {
          "output_type": "display_data",
          "data": {
            "application/vnd.jupyter.widget-view+json": {
              "model_id": "7434ec94ee274debb1c6274ed2b0cba5",
              "version_minor": 0,
              "version_major": 2
            },
            "text/plain": [
              "Textarea(value='', description='Danh sách gợi ý:', disabled=True, layout=Layout(height='200px', width='40%'), …"
            ]
          },
          "metadata": {}
        }
      ]
    },
    {
      "cell_type": "code",
      "metadata": {
        "colab": {
          "base_uri": "https://localhost:8080/"
        },
        "id": "goYxkJ-cwPKs",
        "outputId": "2ea14483-1c23-4ee1-ba0d-8cd0aad70ef8"
      },
      "source": [
        "cbf.get_recommendation(1, train_movies, test_movies)"
      ],
      "execution_count": null,
      "outputs": [
        {
          "output_type": "execute_result",
          "data": {
            "text/plain": [
              "[48516, 54503, 1237, 99917, 116897, 80906, 115149, 60069, 410, 87430]"
            ]
          },
          "metadata": {},
          "execution_count": 21
        }
      ]
    },
    {
      "cell_type": "code",
      "metadata": {
        "id": "Ftkf2CtykHjq"
      },
      "source": [
        "train_params = [0.5, 0.5]"
      ],
      "execution_count": null,
      "outputs": []
    },
    {
      "cell_type": "code",
      "metadata": {
        "colab": {
          "base_uri": "https://localhost:8080/"
        },
        "id": "UaRkflFak6Pl",
        "outputId": "6e3a55ad-1ea3-4477-dd32-775d6daf5dc5"
      },
      "source": [
        "total_test = 0\n",
        "rmse = 0\n",
        "for user in userId:\n",
        "  for entry in test_movies[user]:\n",
        "    predict_score = cbf.predict(user, movie) * 0.5 + ncf.predict(user, movie) * 0.5 # + train_params.intercept_\n",
        "    predict_score = min(5, max(0.5, predict_score))\n",
        "    rmse += (predict_score - entry[1]) ** 2\n",
        "    total_test += 1\n",
        "print(f\"Hybrid rmse {np.sqrt(rmse / total_test)}\")\n",
        "print(f\"Content Based rmse: {cbf.rmse(test_input, test_output)}\")\n",
        "print(f\"Neighborhood Collaborative Filtering rmse: {ncf.rmse(test_movies)}\")"
      ],
      "execution_count": null,
      "outputs": [
        {
          "output_type": "stream",
          "name": "stdout",
          "text": [
            "Hybrid rmse 0.8872029152368545\n",
            "Content Based rmse: 1.0353669972783817\n",
            "Neighborhood Collaborative Filtering rmse: 0.8617173089609893\n"
          ]
        }
      ]
    },
    {
      "cell_type": "code",
      "metadata": {
        "id": "dld9N5Vq0-hj"
      },
      "source": [
        "def ap10(user, train_movies, test_movies):\n",
        "    if len(test_movies[user]) > 0:\n",
        "      count_relevant = 0\n",
        "      relevant_set = set()\n",
        "      for elm in test_movies[user]:\n",
        "        if elm[1] >= RELEVANT_THRESHOLD:\n",
        "          relevant_set.add(elm[0])\n",
        "          count_relevant += 1\n",
        "      watched = set()\n",
        "      for elm in train_movies[user]:\n",
        "        watched.add(elm[0])\n",
        "      scores = []\n",
        "      for movie in movieId_lookup:\n",
        "        scores.append(cbf.predict(user, movie) * train_params[0] + ncf.predict(user, movie) * train_params[1])\n",
        "      scores = np.array(scores)\n",
        "      sorted_movies = (-scores).argsort()\n",
        "      count_rec = 0\n",
        "      precision = 0\n",
        "      rank = 0\n",
        "      for idx in sorted_movies:\n",
        "        if count_rec == 10:\n",
        "          break\n",
        "        if movies_ncf_inver[idx] in watched:\n",
        "          continue\n",
        "        if movies_ncf_inver[idx] in relevant_set:\n",
        "          rank += 1\n",
        "        count_rec += 1\n",
        "        precision += rank / count_rec\n",
        "      if len(relevant_set) > 0:\n",
        "        return precision / len(relevant_set)\n",
        "    return 0"
      ],
      "execution_count": null,
      "outputs": []
    },
    {
      "cell_type": "code",
      "metadata": {
        "id": "DSiFl1cW1rxU"
      },
      "source": [
        "def map10(train_movies, test_movies):\n",
        "    map = 0\n",
        "    for user in userId:\n",
        "      map += ap10(user, train_movies, test_movies)\n",
        "    return map / len(userId)\n"
      ],
      "execution_count": null,
      "outputs": []
    },
    {
      "cell_type": "code",
      "metadata": {
        "id": "-bHUBfu83CDu"
      },
      "source": [
        "def hitrate_user(user, train_movies, test_movies):\n",
        "    hit = 0\n",
        "    if len(test_movies[user]) > 0:\n",
        "      watched = set()\n",
        "      for elm in train_movies[user]:\n",
        "        watched.add(elm[0])\n",
        "      goal_movies = set()\n",
        "      for elm in test_movies[user]:\n",
        "        goal_movies.add(elm[0])\n",
        "      scores = []\n",
        "      for movie in movieId_lookup:\n",
        "        scores.append(cbf.predict(user, movie) * train_params[0] + ncf.predict(user, movie) * train_params[1])\n",
        "      scores = np.array(scores)\n",
        "      sorted_movies = (-scores).argsort()\n",
        "      count_rec = 0\n",
        "      rank = 0\n",
        "      for idx in sorted_movies:\n",
        "        if count_rec == 10:\n",
        "          break\n",
        "        if movies_ncf_inver[idx] in watched:\n",
        "          continue\n",
        "        rank += 1\n",
        "        if movies_ncf_inver[idx] in goal_movies:\n",
        "          hit += 1 / rank\n",
        "    return hit"
      ],
      "execution_count": null,
      "outputs": []
    },
    {
      "cell_type": "code",
      "metadata": {
        "id": "aNasOVVz3J88"
      },
      "source": [
        "def hitrate(train_movies, test_movies):\n",
        "    mhit = 0\n",
        "    for user in userId:\n",
        "      mhit += hitrate_user(user, train_movies, test_movies)\n",
        "    return mhit / len(userId)"
      ],
      "execution_count": null,
      "outputs": []
    },
    {
      "cell_type": "code",
      "metadata": {
        "id": "eBTVOktd1-dT",
        "colab": {
          "base_uri": "https://localhost:8080/"
        },
        "outputId": "aa84315f-e675-4230-a0c3-120fab04bd03"
      },
      "source": [
        "print(map10(train_movies, test_movies))\n",
        "print(hitrate(train_movies, test_movies))"
      ],
      "execution_count": null,
      "outputs": [
        {
          "output_type": "stream",
          "name": "stdout",
          "text": [
            "0.0023910898603521553\n",
            "0.00337417750871733\n"
          ]
        }
      ]
    },
    {
      "cell_type": "code",
      "metadata": {
        "id": "h5pebPLPmg8C"
      },
      "source": [
        "rmse_hybrid = []\n",
        "map10_hybrid = []\n",
        "hitrate_hybrid = []\n",
        "rmse_ncf = []\n",
        "rmse_cbf = []\n",
        "map10_ncf = []\n",
        "map10_cbf = []\n",
        "hitrate_ncf = []\n",
        "hitrate_cbf = []\n",
        "for cbf_param in np.arange(0.1, 1, 0.1):\n",
        "    cbf = RidgeContentRecommender(alpha=30)\n",
        "    cbf.fit(train_input, train_output)\n",
        "    ncf = NCFRecommender(num_cluster=3)\n",
        "    ncf.fit(train_movies)\n",
        "    train_params[0] = cbf_param\n",
        "    train_params[1] = 1 - cbf_param\n",
        "    total_test = 0\n",
        "    rmse = 0\n",
        "    for user in userId:\n",
        "      for entry in test_movies[user]:\n",
        "        predict_score = cbf.predict(user, movie) * train_params[0] + ncf.predict(user, movie) * train_params[1]\n",
        "        predict_score = min(5, max(0.5, predict_score))\n",
        "        rmse += (predict_score - entry[1]) ** 2\n",
        "        total_test += 1\n",
        "    \n",
        "    rmse_hybrid.append(np.sqrt(rmse / total_test))\n",
        "    rmse_ncf.append(ncf.rmse(test_movies))\n",
        "    rmse_cbf.append(cbf.rmse(test_input, test_output))\n",
        "    map10_hybrid.append(map10(train_movies, test_movies))\n",
        "    map10_ncf.append(ncf.map10(train_movies, test_movies))\n",
        "    map10_cbf.append(cbf.map10(train_movies, test_movies))\n",
        "    hitrate_hybrid.append(hitrate(train_movies, test_movies))\n",
        "    hitrate_ncf.append(ncf.hitrate(train_movies, test_movies))\n",
        "    hitrate_cbf.append(cbf.hitrate(train_movies, test_movies))\n",
        "\n"
      ],
      "execution_count": null,
      "outputs": []
    },
    {
      "cell_type": "code",
      "metadata": {
        "colab": {
          "base_uri": "https://localhost:8080/"
        },
        "id": "LurMv4tVPplg",
        "outputId": "df541db0-f0e0-4e08-997c-0b864a77aef1"
      },
      "source": [
        "print(rmse_hybrid)\n",
        "print(rmse_cbf)\n",
        "print(rmse_ncf)"
      ],
      "execution_count": null,
      "outputs": [
        {
          "output_type": "stream",
          "name": "stdout",
          "text": [
            "[0.845710801202254, 0.8545840471812085, 0.8644805650955195, 0.8753656495796037, 0.8872029152368545, 0.8999547902258329, 0.9135829767464324, 0.9280488702951585, 0.9433139324828009]\n",
            "[1.0353669972783817, 1.0353669972783817, 1.0353669972783817, 1.0353669972783817, 1.0353669972783817, 1.0353669972783817, 1.0353669972783817, 1.0353669972783817, 1.0353669972783817]\n",
            "[0.8617173089609893, 0.8617173089609893, 0.8617173089609893, 0.8617173089609893, 0.8617173089609893, 0.8617173089609893, 0.8617173089609893, 0.8617173089609893, 0.8617173089609893]\n"
          ]
        }
      ]
    },
    {
      "cell_type": "code",
      "metadata": {
        "colab": {
          "base_uri": "https://localhost:8080/"
        },
        "id": "n3EEMX3FP0nd",
        "outputId": "0922e922-14fe-422b-8f41-484e467e103a"
      },
      "source": [
        "print(hitrate_hybrid)\n",
        "print(hitrate_cbf)\n",
        "print(hitrate_ncf)"
      ],
      "execution_count": null,
      "outputs": [
        {
          "output_type": "stream",
          "name": "stdout",
          "text": [
            "[0.003112951721777118, 0.00456018991586905, 0.0037681968815564933, 0.0035653230615457433, 0.00337417750871733, 0.0032576567348283816, 0.0031945987379643375, 0.0033050699063369156, 0.0038684580296393586]\n",
            "[0.0034426229508196723, 0.0034426229508196723, 0.0034426229508196723, 0.0034426229508196723, 0.0034426229508196723, 0.0034426229508196723, 0.0034426229508196723, 0.0034426229508196723, 0.0034426229508196723]\n",
            "[0.0038448389350109464, 0.0038448389350109464, 0.0038448389350109464, 0.0038448389350109464, 0.0038448389350109464, 0.0038448389350109464, 0.0038448389350109464, 0.0038448389350109464, 0.0038448389350109464]\n"
          ]
        }
      ]
    },
    {
      "cell_type": "code",
      "metadata": {
        "colab": {
          "base_uri": "https://localhost:8080/"
        },
        "id": "dje-0PIgP-n4",
        "outputId": "b53c4794-c806-477c-f02a-b8a3f211f025"
      },
      "source": [
        "print(map10_hybrid)\n",
        "print(map10_ncf)"
      ],
      "execution_count": null,
      "outputs": [
        {
          "output_type": "stream",
          "name": "stdout",
          "text": [
            "[0.0027345173041894355, 0.004333528493364559, 0.003420613236187007, 0.002564131754705525, 0.0023910898603521553, 0.0023910898603521553, 0.0023910898603521553, 0.0026528211466736056, 0.0036091052996790707]\n",
            "[0.0055255225951947266, 0.0055255225951947266, 0.0055255225951947266, 0.0055255225951947266, 0.0055255225951947266, 0.0055255225951947266, 0.0055255225951947266, 0.0055255225951947266, 0.0055255225951947266]\n"
          ]
        }
      ]
    },
    {
      "cell_type": "code",
      "metadata": {
        "colab": {
          "base_uri": "https://localhost:8080/",
          "height": 297
        },
        "id": "mtbgjKaWhdS2",
        "outputId": "47b32921-9b7c-454d-f1a6-739fa5eaebfa"
      },
      "source": [
        "import matplotlib.pyplot as plt\n",
        "import numpy as np\n",
        "\n",
        "\n",
        "labels = [\"0.\" + str(i) for i in range(1, 10)]\n",
        "hybrid_means = rmse_hybrid\n",
        "ncf_means = rmse_ncf\n",
        "cbf_means = rmse_cbf\n",
        "\n",
        "x = np.arange(len(labels))  # the label locations\n",
        "width = 0.2  # the width of the bars\n",
        "\n",
        "fig, ax = plt.subplots()\n",
        "rects1 = ax.bar(x - 0.3, hybrid_means, width, label='Hybrid')\n",
        "rects2 = ax.bar(x - 0.1, ncf_means, width, label='NCF')\n",
        "rects3 = ax.bar(x + 0.1, cbf_means, width, label=\"CBF\")\n",
        "\n",
        "# Add some text for labels, title and custom x-axis tick labels, etc.\n",
        "ax.set_ylabel('RMSE')\n",
        "ax.set_xlabel('Hệ số của CBF')\n",
        "ax.set_xticks(x)\n",
        "ax.set_xticklabels(labels)\n",
        "#ax.legend()\n",
        "\n",
        "#ax.bar_label(rects1, padding=3)\n",
        "#ax.bar_label(rects2, padding=3)\n",
        "\n",
        "fig.tight_layout()\n",
        "\n",
        "plt.show()"
      ],
      "execution_count": null,
      "outputs": [
        {
          "output_type": "display_data",
          "data": {
            "image/png": "[encoded data removed]",
            "text/plain": [
              "<Figure size 432x288 with 1 Axes>"
            ]
          },
          "metadata": {
            "needs_background": "light"
          }
        }
      ]
    },
    {
      "cell_type": "code",
      "metadata": {
        "colab": {
          "base_uri": "https://localhost:8080/",
          "height": 297
        },
        "id": "JTQaVAwZkcbs",
        "outputId": "61178194-c39c-4ed4-9e49-ebb74beb072c"
      },
      "source": [
        "labels = [\"0.\" + str(i) for i in range(1, 10)]\n",
        "hybrid_means = map10_hybrid\n",
        "ncf_means = map10_ncf\n",
        "cbf_means = map10_cbf\n",
        "\n",
        "x = np.arange(len(labels))  # the label locations\n",
        "width = 0.2  # the width of the bars\n",
        "\n",
        "fig, ax = plt.subplots()\n",
        "rects1 = ax.bar(x - 0.3, hybrid_means, width, label='Hybrid')\n",
        "rects2 = ax.bar(x - 0.1, ncf_means, width, label='NCF')\n",
        "rects3 = ax.bar(x + 0.1, cbf_means, width, label=\"CBF\")\n",
        "\n",
        "# Add some text for labels, title and custom x-axis tick labels, etc.\n",
        "ax.set_ylabel('MAP@10')\n",
        "ax.set_xlabel('Hệ số của CBF')\n",
        "ax.set_xticks(x)\n",
        "ax.set_xticklabels(labels)\n",
        "#ax.legend(bbox_to_anchor=(1.1, 1.05))\n",
        "\n",
        "#ax.bar_label(rects1, padding=3)\n",
        "#ax.bar_label(rects2, padding=3)\n",
        "\n",
        "fig.tight_layout()\n",
        "\n",
        "plt.show()"
      ],
      "execution_count": null,
      "outputs": [
        {
          "output_type": "display_data",
          "data": {
            "image/png": "[encoded data removed]",
            "text/plain": [
              "<Figure size 432x288 with 1 Axes>"
            ]
          },
          "metadata": {
            "needs_background": "light"
          }
        }
      ]
    },
    {
      "cell_type": "code",
      "metadata": {
        "colab": {
          "base_uri": "https://localhost:8080/",
          "height": 297
        },
        "id": "62vqtXx9kuU9",
        "outputId": "394b3fc3-3a8a-404a-f006-d3dc3aed9509"
      },
      "source": [
        "labels = [\"0.\" + str(i) for i in range(1, 10)]\n",
        "hybrid_means = hitrate_hybrid\n",
        "ncf_means = hitrate_ncf\n",
        "cbf_means = hitrate_cbf\n",
        "\n",
        "x = np.arange(len(labels))  # the label locations\n",
        "width = 0.2  # the width of the bars\n",
        "\n",
        "fig, ax = plt.subplots()\n",
        "rects1 = ax.bar(x - 0.3, hybrid_means, width, label='Hybrid')\n",
        "rects2 = ax.bar(x - 0.1, ncf_means, width, label='NCF')\n",
        "rects3 = ax.bar(x + 0.1, cbf_means, width, label=\"CBF\")\n",
        "\n",
        "# Add some text for labels, title and custom x-axis tick labels, etc.\n",
        "ax.set_ylabel('Hitrate@10')\n",
        "ax.set_xlabel('Hệ số của CBF')\n",
        "ax.set_xticks(x)\n",
        "ax.set_xticklabels(labels)\n",
        "#ax.legend(bbox_to_anchor=(1.1, 1.05))\n",
        "\n",
        "#ax.bar_label(rects1, padding=3)\n",
        "#ax.bar_label(rects2, padding=3)\n",
        "\n",
        "fig.tight_layout()\n",
        "\n",
        "plt.show()"
      ],
      "execution_count": null,
      "outputs": [
        {
          "output_type": "display_data",
          "data": {
            "image/png": "[encoded data removed]",
            "text/plain": [
              "<Figure size 432x288 with 1 Axes>"
            ]
          },
          "metadata": {
            "needs_background": "light"
          }
        }
      ]
    }
  ]
}