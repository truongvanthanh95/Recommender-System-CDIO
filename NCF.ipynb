{
  "nbformat": 4,
  "nbformat_minor": 0,
  "metadata": {
    "colab": {
      "name": "NCF.ipynb",
      "provenance": [],
      "collapsed_sections": [],
      "authorship_tag": "ABX9TyOgXwmRKlu+9FHdAxRhuIRQ",
      "include_colab_link": true
    },
    "kernelspec": {
      "name": "python3",
      "display_name": "Python 3"
    },
    "language_info": {
      "name": "python"
    }
  },
  "cells": [
    {
      "cell_type": "markdown",
      "metadata": {
        "id": "view-in-github",
        "colab_type": "text"
      },
      "source": [
        "<a href=\"https://colab.research.google.com/github/truongvanthanh95/Recommender-System-CDIO/blob/main/NCF.ipynb\" target=\"_parent\"><img src=\"https://colab.research.google.com/assets/colab-badge.svg\" alt=\"Open In Colab\"/></a>"
      ]
    },
    {
      "cell_type": "code",
      "metadata": {
        "colab": {
          "base_uri": "https://localhost:8080/"
        },
        "id": "BYjci-xxARan",
        "outputId": "1981b708-b261-4b57-f544-94763b0aff60"
      },
      "source": [
        "!curl https://files.grouplens.org/datasets/movielens/ml-latest-small.zip --output data.zip\n",
        "!unzip data.zip"
      ],
      "execution_count": null,
      "outputs": [
        {
          "output_type": "stream",
          "name": "stdout",
          "text": [
            "  % Total    % Received % Xferd  Average Speed   Time    Time     Time  Current\n",
            "                                 Dload  Upload   Total   Spent    Left  Speed\n",
            "100  955k  100  955k    0     0  2527k      0 --:--:-- --:--:-- --:--:-- 2520k\n",
            "Archive:  data.zip\n",
            "   creating: ml-latest-small/\n",
            "  inflating: ml-latest-small/links.csv  \n",
            "  inflating: ml-latest-small/tags.csv  \n",
            "  inflating: ml-latest-small/ratings.csv  \n",
            "  inflating: ml-latest-small/README.txt  \n",
            "  inflating: ml-latest-small/movies.csv  \n"
          ]
        }
      ]
    },
    {
      "cell_type": "code",
      "metadata": {
        "id": "cAzPujVWAdKk"
      },
      "source": [
        "import pandas as pd\n",
        "import numpy as np\n",
        "ratings = pd.read_csv(\"ml-latest-small/ratings.csv\")\n",
        "tags = pd.read_csv(\"ml-latest-small/tags.csv\")"
      ],
      "execution_count": null,
      "outputs": []
    },
    {
      "cell_type": "code",
      "metadata": {
        "id": "_z0scYqnAkYt"
      },
      "source": [
        "movie_tags = pd.crosstab(tags.movieId, tags.tag)\n",
        "movieId_lookup = {}\n",
        "movieId_inver_lookup = {}\n",
        "for idx, movieId in enumerate(list(movie_tags.index)):\n",
        "  movieId_lookup[movieId] = idx\n",
        "  movieId_inver_lookup[idx] = movieId \n",
        "movie_vectors = movie_tags.to_numpy()\n",
        "from sklearn.preprocessing import StandardScaler\n",
        "movie_vectors = StandardScaler().fit_transform(movie_vectors)"
      ],
      "execution_count": null,
      "outputs": []
    },
    {
      "cell_type": "code",
      "metadata": {
        "id": "jJHAum1rBCaT"
      },
      "source": [
        "from sklearn.decomposition import PCA\n",
        "pca = PCA(n_components = 50)\n",
        "final_movie_vectors = pca.fit_transform(movie_vectors)\n",
        "count_ratings = ratings.groupby('userId')['movieId'].count()"
      ],
      "execution_count": null,
      "outputs": []
    },
    {
      "cell_type": "code",
      "metadata": {
        "id": "c-c2zrYFBNcK"
      },
      "source": [
        "userId = list(set(ratings.userId.values))\n",
        "data = ratings.sample(frac=1, replace=False, random_state=200).reset_index(drop=True)\n",
        "train_movies = {user: set() for user in userId}\n",
        "train_input = {user: [] for user in userId}\n",
        "train_output = {user: [] for user in userId}\n",
        "test_input = {user: [] for user in userId}\n",
        "test_output = {user: [] for user in userId}\n",
        "test_movies = {user: set() for user in userId}\n",
        "cnt_lk = {user: 0 for user in userId}\n",
        "for t in data.values.tolist():\n",
        "  curr_user = t[0]\n",
        "  curr_movie = int(t[1])\n",
        "  curr_ratings = t[2]\n",
        "  if curr_movie not in movieId_lookup:\n",
        "    continue\n",
        "  if count_ratings[curr_user] <= 5:\n",
        "    train_input[curr_user].append(final_movie_vectors[movieId_lookup[curr_movie]])\n",
        "    train_output[curr_user].append(curr_ratings)\n",
        "    train_movies[curr_user].add((curr_movie, curr_ratings))\n",
        "  else:\n",
        "    if cnt_lk[curr_user] < 0.8 * count_ratings[curr_user]:\n",
        "      train_input[curr_user].append(final_movie_vectors[movieId_lookup[curr_movie]])\n",
        "      train_output[curr_user].append(curr_ratings)\n",
        "      train_movies[curr_user].add((curr_movie, curr_ratings))\n",
        "      cnt_lk[curr_user] += 1\n",
        "    else:\n",
        "      test_input[curr_user].append(final_movie_vectors[movieId_lookup[curr_movie]])\n",
        "      test_output[curr_user].append(curr_ratings)\n",
        "      test_movies[curr_user].add((curr_movie, curr_ratings))"
      ],
      "execution_count": null,
      "outputs": []
    },
    {
      "cell_type": "code",
      "metadata": {
        "id": "S7Acw-qqBzaR"
      },
      "source": [
        "num_user = len(userId)\n",
        "num_movie = len(movieId_lookup)\n",
        "movies_ncf = {}\n",
        "movies_ncf_inver = {}\n",
        "users_ncf = {}\n",
        "users_ncf_inver = {}\n",
        "tmp_idx = 0\n",
        "for user in userId:\n",
        "  users_ncf[user] = tmp_idx\n",
        "  users_ncf_inver[tmp_idx] = user\n",
        "  tmp_idx += 1\n",
        "tmp_idx = 0\n",
        "for movie in movieId_lookup:\n",
        "  movies_ncf[movie] = tmp_idx\n",
        "  movies_ncf_inver[tmp_idx] = movie\n",
        "  tmp_idx += 1"
      ],
      "execution_count": null,
      "outputs": []
    },
    {
      "cell_type": "code",
      "metadata": {
        "id": "JdEtLB-LJnSo"
      },
      "source": [
        "RELEVANT_THRESHOLD = 3.\n",
        "MEAN_RATING = ratings.rating.mean()"
      ],
      "execution_count": null,
      "outputs": []
    },
    {
      "cell_type": "code",
      "metadata": {
        "id": "ikWSpfpXBWlc"
      },
      "source": [
        "from sklearn.cluster import KMeans\n",
        "from sklearn.neighbors import NearestNeighbors\n",
        "class NCFRecommender:\n",
        "  def __init__(self, num_cluster = 1, num_neighbor = 10, metric=\"ball_tree\"):\n",
        "    self.utility_mat = np.zeros(shape=(num_user, num_movie))\n",
        "    self.num_cluster = num_cluster\n",
        "    self.num_neighbor = num_neighbor\n",
        "    self.users_rating_count = {}\n",
        "    self.metric = metric\n",
        "\n",
        "\n",
        "  def fit(self, train_movies):\n",
        "    for user in userId:\n",
        "      self.users_rating_count[user] = 0\n",
        "      for entry in train_movies[user]:\n",
        "        self.utility_mat[users_ncf[user], movies_ncf[entry[0]]] = entry[1]\n",
        "        self.users_rating_count[user] += 1\n",
        "\n",
        "    kmeans = KMeans(n_clusters = self.num_cluster, random_state=0).fit(self.utility_mat)\n",
        "    self.cluster_elements = [[] for _ in range(self.num_cluster)]\n",
        "    self.cluster_element_vectors = [[] for _ in range(self.num_cluster)]\n",
        "    self.cluster_lookup = {}\n",
        "    self.cluster_inver_lookup = {}\n",
        "    for idx, label in enumerate(kmeans.labels_):\n",
        "      self.cluster_lookup[users_ncf_inver[idx]] = (label, len(self.cluster_elements[label]))\n",
        "      self.cluster_inver_lookup[(label, len(self.cluster_elements[label]))] = users_ncf_inver[idx]\n",
        "      self.cluster_elements[label].append(idx)\n",
        "      self.cluster_element_vectors[label].append(np.array(self.utility_mat[idx]))\n",
        "\n",
        "    self.cluster_neighbors = [NearestNeighbors(n_neighbors=self.num_neighbor + 5, algorithm=self.metric) for _ in range(self.num_cluster)]\n",
        "    self.cluster_indices = []\n",
        "    for cluster in range(self.num_cluster):\n",
        "      # print(np.array(self.cluster_element_vectors[cluster]).shape)\n",
        "      self.cluster_neighbors[cluster].fit(np.array(self.cluster_element_vectors[cluster]))\n",
        "      \n",
        "      distances, indices = self.cluster_neighbors[cluster].kneighbors(np.array(self.cluster_element_vectors[cluster]))\n",
        "      self.cluster_indices.append(indices)\n",
        "    users_total_rating = self.utility_mat.sum(axis = 1)\n",
        "    users_total_count = self.utility_mat.astype('bool').sum(axis = 1)\n",
        "    self.users_mean_rating = users_total_rating / users_total_count\n",
        "  \n",
        "\n",
        "  def predict(self, user, movie):\n",
        "    curr_cluster = self.cluster_lookup[user][0]\n",
        "    curr_idx = self.cluster_lookup[user][1]\n",
        "    count_neighbor = 0\n",
        "    total_rating = 0\n",
        "    total_weight = 0\n",
        "    best = []\n",
        "    for elm in self.cluster_indices[curr_cluster][curr_idx]:\n",
        "      if count_neighbor == self.num_neighbor:\n",
        "        break\n",
        "      nxt_user = self.cluster_inver_lookup[(curr_cluster, elm)]\n",
        "      pearson = np.corrcoef(self.utility_mat[users_ncf[user]], self.utility_mat[users_ncf[nxt_user]])[0, 1]\n",
        "      best.append((pearson, nxt_user, movie))\n",
        "    best.sort(key=lambda x: abs(x[0]))\n",
        "    best.reverse()\n",
        "    for i in range(len(best)):\n",
        "      nxt_user = best[i][1]\n",
        "      pearson = best[i][0]\n",
        "      movie = best[i][2]\n",
        "      if self.utility_mat[users_ncf[nxt_user]][movies_ncf[movie]] != 0:\n",
        "        total_rating += pearson * (self.utility_mat[users_ncf[nxt_user], movies_ncf[movie]] - self.users_mean_rating[users_ncf[nxt_user]])\n",
        "        total_weight += abs(pearson)\n",
        "        count_neighbor += 1\n",
        "    predict_rating = self.users_mean_rating[users_ncf[user]]\n",
        "    if total_weight > 0:\n",
        "      predict_rating = self.users_mean_rating[users_ncf[user]] + total_rating / total_weight\n",
        "    if predict_rating > 5:\n",
        "      predict_rating = 5\n",
        "    if predict_rating <= 0:\n",
        "      predict_rating = 0.5\n",
        "    return predict_rating\n",
        "  \n",
        "  def rmse(self, test_movies):\n",
        "    curr_rmse = 0\n",
        "    count_total = 0\n",
        "    for user in userId:\n",
        "      if len(test_movies[user]) > 0:\n",
        "        count_total += len(test_movies[user])\n",
        "        for entry in test_movies[user]:\n",
        "          curr_movie = entry[0]\n",
        "          curr_rating = entry[1]\n",
        "          predict_rating = self.predict(user, curr_movie)\n",
        "\n",
        "          curr_rmse += (predict_rating - curr_rating) ** 2\n",
        "          # print(predict_rating, curr_rating, curr_rmse)\n",
        "    return np.sqrt(curr_rmse / count_total)\n",
        "  \n",
        "  def ap10(self, user, train_movies, test_movies):\n",
        "    if len(test_movies[user]) > 0:\n",
        "      count_relevant = 0\n",
        "      relevant_set = set()\n",
        "      for elm in test_movies[user]:\n",
        "        if elm[1] >= RELEVANT_THRESHOLD:\n",
        "          relevant_set.add(elm[0])\n",
        "          count_relevant += 1\n",
        "      watched = set()\n",
        "      for elm in train_movies[user]:\n",
        "        watched.add(elm[0])\n",
        "      scores = []\n",
        "      for movie in movieId_lookup:\n",
        "        scores.append(self.predict(user, movie))\n",
        "      scores = np.array(scores)\n",
        "      sorted_movies = (-scores).argsort()\n",
        "      count_rec = 0\n",
        "      precision = 0\n",
        "      rank = 0\n",
        "      for idx in sorted_movies:\n",
        "        if count_rec == 10:\n",
        "          break\n",
        "        if movies_ncf_inver[idx] in watched:\n",
        "          continue\n",
        "        if movies_ncf_inver[idx] in relevant_set:\n",
        "          rank += 1\n",
        "        count_rec += 1\n",
        "        precision += rank / count_rec\n",
        "      if len(relevant_set) > 0:\n",
        "        return precision / len(relevant_set)\n",
        "    return 0\n",
        "\n",
        "  def hitrate_user(self, user, train_movies, test_movies):\n",
        "    hit = 0\n",
        "    if len(test_movies[user]) > 0:\n",
        "      watched = set()\n",
        "      for elm in train_movies[user]:\n",
        "        watched.add(elm[0])\n",
        "      goal_movies = set()\n",
        "      for elm in test_movies[user]:\n",
        "        goal_movies.add(elm[0])\n",
        "      scores = []\n",
        "      for movie in movieId_lookup:\n",
        "        scores.append(self.predict(user, movie))\n",
        "      scores = np.array(scores)\n",
        "      sorted_movies = (-scores).argsort()\n",
        "      count_rec = 0\n",
        "      rank = 0\n",
        "      for idx in sorted_movies:\n",
        "        if count_rec == 10:\n",
        "          break\n",
        "        if movies_ncf_inver[idx] in watched:\n",
        "          continue\n",
        "        rank += 1\n",
        "        if movies_ncf_inver[idx] in goal_movies:\n",
        "          hit += 1 / rank\n",
        "    return hit\n",
        "  \n",
        "\n",
        "  def map10(self, train_movies, test_movies):\n",
        "    map = 0\n",
        "    for user in userId:\n",
        "      map += self.ap10(user, train_movies, test_movies)\n",
        "    return map / len(userId)\n",
        "  \n",
        "\n",
        "  def hitrate(self, train_movies, test_movies):\n",
        "    mhit = 0\n",
        "    for user in userId:\n",
        "      mhit += self.hitrate_user(user, train_movies, test_movies)\n",
        "    return mhit / len(userId)"
      ],
      "execution_count": null,
      "outputs": []
    },
    {
      "cell_type": "code",
      "metadata": {
        "id": "TTnu9eT3Lay_",
        "colab": {
          "base_uri": "https://localhost:8080/"
        },
        "outputId": "5d9ba49c-c686-4925-c815-ad87c81e17f4"
      },
      "source": [
        "rmse = []\n",
        "map10 = []\n",
        "hitrate = []\n",
        "num_neighbors = [1, 5, 10, 15, 20]\n",
        "for num_neighbor in num_neighbors:\n",
        "  model = NCFRecommender(num_neighbor=num_neighbor)\n",
        "  model.fit(train_movies)\n",
        "  rmse.append(model.rmse(test_movies))\n",
        "  map10.append(model.map10(train_movies, test_movies))\n",
        "  hitrate.append(model.hitrate(train_movies, test_movies))\n",
        "print(rmse)"
      ],
      "execution_count": null,
      "outputs": [
        {
          "output_type": "stream",
          "name": "stdout",
          "text": [
            "[0.9125255040926731, 0.9027965368404617, 0.9066345370421769, 0.9135186839588965, 0.9204652110239165]\n"
          ]
        }
      ]
    },
    {
      "cell_type": "code",
      "metadata": {
        "colab": {
          "base_uri": "https://localhost:8080/",
          "height": 297
        },
        "id": "9s5GEJxwMG6j",
        "outputId": "b7beede3-0888-4690-dab3-1c7a3246a651"
      },
      "source": [
        "num_neighbors = [1, 5, 10, 15, 20]\n",
        "import matplotlib.pyplot as plt\n",
        "plt.plot(num_neighbors, rmse)\n",
        "plt.xlabel(\"Số lượng neighbor\")\n",
        "plt.xticks(num_neighbors)\n",
        "plt.ylabel(\"rmse\")"
      ],
      "execution_count": null,
      "outputs": [
        {
          "output_type": "execute_result",
          "data": {
            "text/plain": [
              "Text(0, 0.5, 'rmse')"
            ]
          },
          "metadata": {},
          "execution_count": 26
        },
        {
          "output_type": "display_data",
          "data": {
            "image/png": "[encoded data removed]",
            "text/plain": [
              "<Figure size 432x288 with 1 Axes>"
            ]
          },
          "metadata": {
            "needs_background": "light"
          }
        }
      ]
    },
    {
      "cell_type": "code",
      "metadata": {
        "colab": {
          "base_uri": "https://localhost:8080/",
          "height": 297
        },
        "id": "3u-huG-EOvpC",
        "outputId": "8f633da1-6e92-4000-ad4d-14bbc64822ac"
      },
      "source": [
        "plt.plot(num_neighbors, map10)\n",
        "plt.xlabel(\"Số lượng neighbor\")\n",
        "plt.xticks(num_neighbors)\n",
        "plt.ylabel(\"map10\")"
      ],
      "execution_count": null,
      "outputs": [
        {
          "output_type": "execute_result",
          "data": {
            "text/plain": [
              "Text(0, 0.5, 'map10')"
            ]
          },
          "metadata": {},
          "execution_count": 27
        },
        {
          "output_type": "display_data",
          "data": {
            "image/png": "[encoded data removed]",
            "text/plain": [
              "<Figure size 432x288 with 1 Axes>"
            ]
          },
          "metadata": {
            "needs_background": "light"
          }
        }
      ]
    },
    {
      "cell_type": "code",
      "metadata": {
        "colab": {
          "base_uri": "https://localhost:8080/",
          "height": 297
        },
        "id": "Up57Zzt5PJk_",
        "outputId": "48c56b9e-43e7-4010-f6f7-d9e65160fc28"
      },
      "source": [
        "plt.plot(num_neighbors, hitrate)\n",
        "plt.xlabel(\"Số lượng neighbor\")\n",
        "plt.xticks(num_neighbors)\n",
        "plt.ylabel(\"hitrate\")"
      ],
      "execution_count": null,
      "outputs": [
        {
          "output_type": "execute_result",
          "data": {
            "text/plain": [
              "Text(0, 0.5, 'hitrate')"
            ]
          },
          "metadata": {},
          "execution_count": 28
        },
        {
          "output_type": "display_data",
          "data": {
            "image/png": "[encoded data removed]",
            "text/plain": [
              "<Figure size 432x288 with 1 Axes>"
            ]
          },
          "metadata": {
            "needs_background": "light"
          }
        }
      ]
    },
    {
      "cell_type": "code",
      "metadata": {
        "id": "1RrAIEuaUv3l"
      },
      "source": [
        "rmse = []\n",
        "map10 = []\n",
        "hitrate = []\n",
        "for num_cluster in range(1, 5):\n",
        "  model = NCFRecommender(num_neighbor=5, num_cluster=num_cluster)\n",
        "  model.fit(train_movies)\n",
        "  rmse.append(model.rmse(test_movies))\n",
        "  map10.append(model.map10(train_movies, test_movies))\n",
        "  hitrate.append(model.hitrate(train_movies, test_movies))"
      ],
      "execution_count": null,
      "outputs": []
    },
    {
      "cell_type": "code",
      "metadata": {
        "id": "0WJbyrBbC2NG",
        "colab": {
          "base_uri": "https://localhost:8080/",
          "height": 380
        },
        "outputId": "24fd1957-3cf8-4339-cbb5-e3e4a9bae8bf"
      },
      "source": [
        "model = NCFRecommender(num_neighbor=5, num_cluster=5)\n",
        "model.fit(train_movies)\n",
        "rmse.append(model.rmse(test_movies))\n",
        "map10.append(model.map10(train_movies, test_movies))\n",
        "hitrate.append(model.hitrate(train_movies, test_movies))"
      ],
      "execution_count": null,
      "outputs": [
        {
          "output_type": "error",
          "ename": "ValueError",
          "evalue": "ignored",
          "traceback": [
            "\u001b[0;31m---------------------------------------------------------------------------\u001b[0m",
            "\u001b[0;31mValueError\u001b[0m                                Traceback (most recent call last)",
            "\u001b[0;32m<ipython-input-30-1b5d2f8c403e>\u001b[0m in \u001b[0;36m<module>\u001b[0;34m()\u001b[0m\n\u001b[1;32m      1\u001b[0m \u001b[0mmodel\u001b[0m \u001b[0;34m=\u001b[0m \u001b[0mNCFRecommender\u001b[0m\u001b[0;34m(\u001b[0m\u001b[0mnum_neighbor\u001b[0m\u001b[0;34m=\u001b[0m\u001b[0;36m5\u001b[0m\u001b[0;34m,\u001b[0m \u001b[0mnum_cluster\u001b[0m\u001b[0;34m=\u001b[0m\u001b[0;36m5\u001b[0m\u001b[0;34m)\u001b[0m\u001b[0;34m\u001b[0m\u001b[0;34m\u001b[0m\u001b[0m\n\u001b[0;32m----> 2\u001b[0;31m \u001b[0mmodel\u001b[0m\u001b[0;34m.\u001b[0m\u001b[0mfit\u001b[0m\u001b[0;34m(\u001b[0m\u001b[0mtrain_movies\u001b[0m\u001b[0;34m)\u001b[0m\u001b[0;34m\u001b[0m\u001b[0;34m\u001b[0m\u001b[0m\n\u001b[0m\u001b[1;32m      3\u001b[0m \u001b[0mrmse\u001b[0m\u001b[0;34m.\u001b[0m\u001b[0mappend\u001b[0m\u001b[0;34m(\u001b[0m\u001b[0mmodel\u001b[0m\u001b[0;34m.\u001b[0m\u001b[0mrmse\u001b[0m\u001b[0;34m(\u001b[0m\u001b[0mtest_movies\u001b[0m\u001b[0;34m)\u001b[0m\u001b[0;34m)\u001b[0m\u001b[0;34m\u001b[0m\u001b[0;34m\u001b[0m\u001b[0m\n\u001b[1;32m      4\u001b[0m \u001b[0mmap10\u001b[0m\u001b[0;34m.\u001b[0m\u001b[0mappend\u001b[0m\u001b[0;34m(\u001b[0m\u001b[0mmodel\u001b[0m\u001b[0;34m.\u001b[0m\u001b[0mmap10\u001b[0m\u001b[0;34m(\u001b[0m\u001b[0mtrain_movies\u001b[0m\u001b[0;34m,\u001b[0m \u001b[0mtest_movies\u001b[0m\u001b[0;34m)\u001b[0m\u001b[0;34m)\u001b[0m\u001b[0;34m\u001b[0m\u001b[0;34m\u001b[0m\u001b[0m\n\u001b[1;32m      5\u001b[0m \u001b[0mhitrate\u001b[0m\u001b[0;34m.\u001b[0m\u001b[0mappend\u001b[0m\u001b[0;34m(\u001b[0m\u001b[0mmodel\u001b[0m\u001b[0;34m.\u001b[0m\u001b[0mhitrate\u001b[0m\u001b[0;34m(\u001b[0m\u001b[0mtrain_movies\u001b[0m\u001b[0;34m,\u001b[0m \u001b[0mtest_movies\u001b[0m\u001b[0;34m)\u001b[0m\u001b[0;34m)\u001b[0m\u001b[0;34m\u001b[0m\u001b[0;34m\u001b[0m\u001b[0m\n",
            "\u001b[0;32m<ipython-input-24-9086786c41d9>\u001b[0m in \u001b[0;36mfit\u001b[0;34m(self, train_movies)\u001b[0m\n\u001b[1;32m     34\u001b[0m       \u001b[0mself\u001b[0m\u001b[0;34m.\u001b[0m\u001b[0mcluster_neighbors\u001b[0m\u001b[0;34m[\u001b[0m\u001b[0mcluster\u001b[0m\u001b[0;34m]\u001b[0m\u001b[0;34m.\u001b[0m\u001b[0mfit\u001b[0m\u001b[0;34m(\u001b[0m\u001b[0mnp\u001b[0m\u001b[0;34m.\u001b[0m\u001b[0marray\u001b[0m\u001b[0;34m(\u001b[0m\u001b[0mself\u001b[0m\u001b[0;34m.\u001b[0m\u001b[0mcluster_element_vectors\u001b[0m\u001b[0;34m[\u001b[0m\u001b[0mcluster\u001b[0m\u001b[0;34m]\u001b[0m\u001b[0;34m)\u001b[0m\u001b[0;34m)\u001b[0m\u001b[0;34m\u001b[0m\u001b[0;34m\u001b[0m\u001b[0m\n\u001b[1;32m     35\u001b[0m \u001b[0;34m\u001b[0m\u001b[0m\n\u001b[0;32m---> 36\u001b[0;31m       \u001b[0mdistances\u001b[0m\u001b[0;34m,\u001b[0m \u001b[0mindices\u001b[0m \u001b[0;34m=\u001b[0m \u001b[0mself\u001b[0m\u001b[0;34m.\u001b[0m\u001b[0mcluster_neighbors\u001b[0m\u001b[0;34m[\u001b[0m\u001b[0mcluster\u001b[0m\u001b[0;34m]\u001b[0m\u001b[0;34m.\u001b[0m\u001b[0mkneighbors\u001b[0m\u001b[0;34m(\u001b[0m\u001b[0mnp\u001b[0m\u001b[0;34m.\u001b[0m\u001b[0marray\u001b[0m\u001b[0;34m(\u001b[0m\u001b[0mself\u001b[0m\u001b[0;34m.\u001b[0m\u001b[0mcluster_element_vectors\u001b[0m\u001b[0;34m[\u001b[0m\u001b[0mcluster\u001b[0m\u001b[0;34m]\u001b[0m\u001b[0;34m)\u001b[0m\u001b[0;34m)\u001b[0m\u001b[0;34m\u001b[0m\u001b[0;34m\u001b[0m\u001b[0m\n\u001b[0m\u001b[1;32m     37\u001b[0m       \u001b[0mself\u001b[0m\u001b[0;34m.\u001b[0m\u001b[0mcluster_indices\u001b[0m\u001b[0;34m.\u001b[0m\u001b[0mappend\u001b[0m\u001b[0;34m(\u001b[0m\u001b[0mindices\u001b[0m\u001b[0;34m)\u001b[0m\u001b[0;34m\u001b[0m\u001b[0;34m\u001b[0m\u001b[0m\n\u001b[1;32m     38\u001b[0m     \u001b[0musers_total_rating\u001b[0m \u001b[0;34m=\u001b[0m \u001b[0mself\u001b[0m\u001b[0;34m.\u001b[0m\u001b[0mutility_mat\u001b[0m\u001b[0;34m.\u001b[0m\u001b[0msum\u001b[0m\u001b[0;34m(\u001b[0m\u001b[0maxis\u001b[0m \u001b[0;34m=\u001b[0m \u001b[0;36m1\u001b[0m\u001b[0;34m)\u001b[0m\u001b[0;34m\u001b[0m\u001b[0;34m\u001b[0m\u001b[0m\n",
            "\u001b[0;32m/usr/local/lib/python3.7/dist-packages/sklearn/neighbors/_base.py\u001b[0m in \u001b[0;36mkneighbors\u001b[0;34m(self, X, n_neighbors, return_distance)\u001b[0m\n\u001b[1;32m    616\u001b[0m                 \u001b[0;34m\"Expected n_neighbors <= n_samples, \"\u001b[0m\u001b[0;34m\u001b[0m\u001b[0;34m\u001b[0m\u001b[0m\n\u001b[1;32m    617\u001b[0m                 \u001b[0;34m\" but n_samples = %d, n_neighbors = %d\"\u001b[0m \u001b[0;34m%\u001b[0m\u001b[0;34m\u001b[0m\u001b[0;34m\u001b[0m\u001b[0m\n\u001b[0;32m--> 618\u001b[0;31m                 \u001b[0;34m(\u001b[0m\u001b[0mn_samples_fit\u001b[0m\u001b[0;34m,\u001b[0m \u001b[0mn_neighbors\u001b[0m\u001b[0;34m)\u001b[0m\u001b[0;34m\u001b[0m\u001b[0;34m\u001b[0m\u001b[0m\n\u001b[0m\u001b[1;32m    619\u001b[0m             )\n\u001b[1;32m    620\u001b[0m \u001b[0;34m\u001b[0m\u001b[0m\n",
            "\u001b[0;31mValueError\u001b[0m: Expected n_neighbors <= n_samples,  but n_samples = 2, n_neighbors = 10"
          ]
        }
      ]
    },
    {
      "cell_type": "code",
      "metadata": {
        "colab": {
          "base_uri": "https://localhost:8080/",
          "height": 297
        },
        "id": "3u8DOIVmZ0Sk",
        "outputId": "f117efd4-2e33-4396-ea88-f193957b44f0"
      },
      "source": [
        "num_clusters = list(range(1, 5))\n",
        "import matplotlib.pyplot as plt\n",
        "plt.plot(num_clusters, rmse)\n",
        "plt.xlabel(\"Số lượng cluster\")\n",
        "plt.xticks(num_clusters)\n",
        "plt.ylabel(\"rmse\")"
      ],
      "execution_count": null,
      "outputs": [
        {
          "output_type": "execute_result",
          "data": {
            "text/plain": [
              "Text(0, 0.5, 'rmse')"
            ]
          },
          "metadata": {},
          "execution_count": 37
        },
        {
          "output_type": "display_data",
          "data": {
            "image/png": "[encoded data removed]",
            "text/plain": [
              "<Figure size 432x288 with 1 Axes>"
            ]
          },
          "metadata": {
            "needs_background": "light"
          }
        }
      ]
    },
    {
      "cell_type": "code",
      "metadata": {
        "colab": {
          "base_uri": "https://localhost:8080/",
          "height": 297
        },
        "id": "mtlNqLBgfuRT",
        "outputId": "aa61979a-65b7-4a1c-c3da-389beb7ce19a"
      },
      "source": [
        "plt.plot(num_clusters, map10)\n",
        "plt.xlabel(\"Số lượng cluster\")\n",
        "plt.xticks(num_clusters)\n",
        "plt.ylabel(\"map10\")"
      ],
      "execution_count": null,
      "outputs": [
        {
          "output_type": "execute_result",
          "data": {
            "text/plain": [
              "Text(0, 0.5, 'map10')"
            ]
          },
          "metadata": {},
          "execution_count": 38
        },
        {
          "output_type": "display_data",
          "data": {
            "image/png": "[encoded data removed]",
            "text/plain": [
              "<Figure size 432x288 with 1 Axes>"
            ]
          },
          "metadata": {
            "needs_background": "light"
          }
        }
      ]
    },
    {
      "cell_type": "code",
      "metadata": {
        "colab": {
          "base_uri": "https://localhost:8080/",
          "height": 297
        },
        "id": "L178TJ5qf5GJ",
        "outputId": "e6e731eb-a37a-4992-895b-f37cb77bac03"
      },
      "source": [
        "plt.plot(num_clusters, hitrate)\n",
        "plt.xlabel(\"Số lượng cluster\")\n",
        "plt.xticks(num_clusters)\n",
        "plt.ylabel(\"hitrate\")"
      ],
      "execution_count": null,
      "outputs": [
        {
          "output_type": "execute_result",
          "data": {
            "text/plain": [
              "Text(0, 0.5, 'hitrate')"
            ]
          },
          "metadata": {},
          "execution_count": 39
        },
        {
          "output_type": "display_data",
          "data": {
            "image/png": "[encoded data removed]",
            "text/plain": [
              "<Figure size 432x288 with 1 Axes>"
            ]
          },
          "metadata": {
            "needs_background": "light"
          }
        }
      ]
    },
    {
      "cell_type": "code",
      "metadata": {
        "id": "x4Yt2KwklmEF"
      },
      "source": [
        "model.predict(1, 3)"
      ],
      "execution_count": null,
      "outputs": []
    }
  ]
}