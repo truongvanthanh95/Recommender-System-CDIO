{
 "cells": [
  {
   "cell_type": "code",
   "metadata": {
    "id": "T3jqfP5mQJZh",
    "cell_id": "00000-383626c5-3518-4280-a3f7-dd021a15b7ca",
    "deepnote_cell_type": "code"
   },
   "source": "import pandas as pd",
   "outputs": [],
   "execution_count": null
  },
  {
   "cell_type": "code",
   "metadata": {
    "id": "5GK93omoRKe4",
    "cell_id": "00002-c0a76a7b-bfd5-4180-a108-92abe359f2ce",
    "deepnote_cell_type": "code"
   },
   "source": "movies = pd.read_csv('data/movies.csv', encoding='latin')",
   "outputs": [],
   "execution_count": null
  },
  {
   "cell_type": "code",
   "metadata": {
    "colab": {
     "base_uri": "https://localhost:8080/",
     "height": 204
    },
    "id": "JfQj6dfzRiwl",
    "outputId": "d876cd9e-d88f-450f-8a5a-b5b31736386c",
    "cell_id": "00003-64841774-20e7-42ee-acdc-247264294c7d",
    "deepnote_cell_type": "code"
   },
   "source": "movies.head()",
   "outputs": [
    {
     "output_type": "execute_result",
     "data": {
      "text/html": "<div>\n<style scoped>\n    .dataframe tbody tr th:only-of-type {\n        vertical-align: middle;\n    }\n\n    .dataframe tbody tr th {\n        vertical-align: top;\n    }\n\n    .dataframe thead th {\n        text-align: right;\n    }\n</style>\n<table border=\"1\" class=\"dataframe\">\n  <thead>\n    <tr style=\"text-align: right;\">\n      <th></th>\n      <th>movieId</th>\n      <th>title</th>\n      <th>genres</th>\n    </tr>\n  </thead>\n  <tbody>\n    <tr>\n      <th>0</th>\n      <td>1</td>\n      <td>Toy Story (1995)</td>\n      <td>Adventure|Animation|Children|Comedy|Fantasy</td>\n    </tr>\n    <tr>\n      <th>1</th>\n      <td>2</td>\n      <td>Jumanji (1995)</td>\n      <td>Adventure|Children|Fantasy</td>\n    </tr>\n    <tr>\n      <th>2</th>\n      <td>3</td>\n      <td>Grumpier Old Men (1995)</td>\n      <td>Comedy|Romance</td>\n    </tr>\n    <tr>\n      <th>3</th>\n      <td>4</td>\n      <td>Waiting to Exhale (1995)</td>\n      <td>Comedy|Drama|Romance</td>\n    </tr>\n    <tr>\n      <th>4</th>\n      <td>5</td>\n      <td>Father of the Bride Part II (1995)</td>\n      <td>Comedy</td>\n    </tr>\n  </tbody>\n</table>\n</div>",
      "text/plain": "   movieId  ...                                       genres\n0        1  ...  Adventure|Animation|Children|Comedy|Fantasy\n1        2  ...                   Adventure|Children|Fantasy\n2        3  ...                               Comedy|Romance\n3        4  ...                         Comedy|Drama|Romance\n4        5  ...                                       Comedy\n\n[5 rows x 3 columns]"
     },
     "metadata": {},
     "execution_count": 4
    }
   ],
   "execution_count": null
  },
  {
   "cell_type": "code",
   "metadata": {
    "id": "GW_8PHyyRlqF",
    "cell_id": "00004-f6b81754-ba08-48f8-874e-a7a30fa48cdd",
    "deepnote_cell_type": "code"
   },
   "source": "ratings = pd.read_csv('data/ratings.csv')",
   "outputs": [],
   "execution_count": null
  },
  {
   "cell_type": "code",
   "metadata": {
    "colab": {
     "base_uri": "https://localhost:8080/",
     "height": 204
    },
    "id": "YqZsqVdaR0-e",
    "outputId": "d117695c-0160-4b1d-f33a-c18df34f2d9b",
    "cell_id": "00005-8378ad0a-2b9e-482e-94b5-429da7ead0e3",
    "deepnote_cell_type": "code"
   },
   "source": "ratings.head()",
   "outputs": [
    {
     "output_type": "execute_result",
     "data": {
      "text/html": "<div>\n<style scoped>\n    .dataframe tbody tr th:only-of-type {\n        vertical-align: middle;\n    }\n\n    .dataframe tbody tr th {\n        vertical-align: top;\n    }\n\n    .dataframe thead th {\n        text-align: right;\n    }\n</style>\n<table border=\"1\" class=\"dataframe\">\n  <thead>\n    <tr style=\"text-align: right;\">\n      <th></th>\n      <th>userId</th>\n      <th>movieId</th>\n      <th>rating</th>\n      <th>timestamp</th>\n    </tr>\n  </thead>\n  <tbody>\n    <tr>\n      <th>0</th>\n      <td>12882</td>\n      <td>1</td>\n      <td>4.0</td>\n      <td>1147195252</td>\n    </tr>\n    <tr>\n      <th>1</th>\n      <td>12882</td>\n      <td>32</td>\n      <td>3.5</td>\n      <td>1147195307</td>\n    </tr>\n    <tr>\n      <th>2</th>\n      <td>12882</td>\n      <td>47</td>\n      <td>5.0</td>\n      <td>1147195343</td>\n    </tr>\n    <tr>\n      <th>3</th>\n      <td>12882</td>\n      <td>50</td>\n      <td>5.0</td>\n      <td>1147185499</td>\n    </tr>\n    <tr>\n      <th>4</th>\n      <td>12882</td>\n      <td>110</td>\n      <td>4.5</td>\n      <td>1147195239</td>\n    </tr>\n  </tbody>\n</table>\n</div>",
      "text/plain": "   userId  movieId  rating   timestamp\n0   12882        1     4.0  1147195252\n1   12882       32     3.5  1147195307\n2   12882       47     5.0  1147195343\n3   12882       50     5.0  1147185499\n4   12882      110     4.5  1147195239"
     },
     "metadata": {},
     "execution_count": 6
    }
   ],
   "execution_count": null
  },
  {
   "cell_type": "markdown",
   "source": " Một phương án có thể đề xuất Non-Personalized đó là gợi ý dựa trên rating trung bình của từng bộ phim, khi đó chúng ta sẽ chọn ra những bộ phim được đánh giá cao nhất.",
   "metadata": {
    "id": "ihfdI5GxE5e1",
    "cell_id": "00006-ae0cc463-7d34-4970-931b-d44ccb06625e",
    "deepnote_cell_type": "markdown"
   }
  },
  {
   "cell_type": "code",
   "metadata": {
    "id": "PdGcJbHlRtq9",
    "cell_id": "00007-5216e3c1-3326-42b9-8936-de6917d533a1",
    "deepnote_cell_type": "code"
   },
   "source": "# Tính tổng rating của bộ phim.\nsumRatingPerItem = ratings.groupby('movieId')['rating'].sum()",
   "execution_count": null,
   "outputs": []
  },
  {
   "cell_type": "code",
   "metadata": {
    "colab": {
     "base_uri": "https://localhost:8080/"
    },
    "id": "0nq3Yi3FVqUv",
    "outputId": "4560cec4-c0a6-4e4d-b6a7-b091c3519d4c",
    "cell_id": "00008-8628b7e8-78f9-45b7-818a-f6acea2ccfde",
    "deepnote_cell_type": "code"
   },
   "source": "sumRatingPerItem.head()",
   "execution_count": null,
   "outputs": [
    {
     "output_type": "execute_result",
     "data": {
      "text/plain": "movieId\n1    1881.5\n2     856.5\n3     228.0\n4      33.5\n5     216.5\nName: rating, dtype: float64"
     },
     "metadata": {},
     "execution_count": 32
    }
   ]
  },
  {
   "cell_type": "code",
   "metadata": {
    "id": "ivNn7lJMR917",
    "cell_id": "00009-b2c2ab0f-83e3-4ffa-9aec-c93adcb5beea",
    "deepnote_cell_type": "code"
   },
   "source": "# Tính số lượt được đánh giá của từng bộ phim\ncountPerItem = ratings.groupby('movieId')['rating'].count()",
   "execution_count": null,
   "outputs": []
  },
  {
   "cell_type": "code",
   "metadata": {
    "id": "HQvyJsrASHWh",
    "cell_id": "00010-fd724a0f-a251-40f4-b551-377a43df53c0",
    "deepnote_cell_type": "code"
   },
   "source": "# Tính rating trung bình, sau đó sắp xếp theo thứ tự giảm dần.\nsortedItem = (sumRatingPerItem / countPerItem).sort_values(ascending=False)",
   "execution_count": null,
   "outputs": []
  },
  {
   "cell_type": "code",
   "metadata": {
    "colab": {
     "base_uri": "https://localhost:8080/"
    },
    "id": "9bm7urg_Sa3z",
    "outputId": "2fa702f8-4beb-4be0-fcb0-1a90e69ecf51",
    "cell_id": "00011-a6f9d66b-f481-4a31-ae91-c70f4f633652",
    "deepnote_cell_type": "code"
   },
   "source": "type(sortedItem)",
   "execution_count": null,
   "outputs": [
    {
     "output_type": "execute_result",
     "data": {
      "text/plain": "pandas.core.series.Series"
     },
     "metadata": {},
     "execution_count": 20
    }
   ]
  },
  {
   "cell_type": "code",
   "metadata": {
    "id": "77krCzBOS8pK",
    "cell_id": "00012-4c6a5212-e079-4833-b866-7164bf4b7793",
    "deepnote_cell_type": "code"
   },
   "source": "recommendItem = sortedItem.iloc[:10].to_dict()",
   "execution_count": null,
   "outputs": []
  },
  {
   "cell_type": "code",
   "metadata": {
    "colab": {
     "base_uri": "https://localhost:8080/"
    },
    "id": "BSP_jfjNTURV",
    "outputId": "a24dc0c1-ce6b-45d1-daff-e18d4126fdfc",
    "cell_id": "00013-bb6530a5-3474-4302-911b-d5db9ef1d34b",
    "deepnote_cell_type": "code"
   },
   "source": "# Top 10 bộ phim có rating trung bình cao nhất.\nrecommendItem.keys()",
   "execution_count": null,
   "outputs": [
    {
     "output_type": "execute_result",
     "data": {
      "text/plain": "dict_keys([318, 858, 1248, 2959, 7502, 1203, 2859, 1221, 296, 2571])"
     },
     "metadata": {},
     "execution_count": 23
    }
   ]
  },
  {
   "cell_type": "markdown",
   "source": " Đối với phương án trên, sẽ có vấn đề nảy sinh, đó là chẳng hạn có một bộ phim $i$ chỉ được đánh giá 1 lần với giá trị rating là 5 chẳng hạn. Khi đó bộ phim $i$ này hiển nhiên sẽ nằm trong danh sách đề xuất. Tuy nhiên với số lần đánh giá thấp như vậy thì chưa chắc bộ phim $i$ đã thực sự hay mà đơn giản nó chỉ phù hợp với 1 số đối tượng nhất định và hoàn toàn có thể bộ phim thứ $i$ này sẽ bị đánh giá thấp trong những lượt đánh giá tiếp theo. Để khắc phục tình trạng trên thì ta sẽ sử dụng một kỹ thuật gọi là **damping mean**, ta sẽ thêm vào cho mỗi bộ phim 1 lượng rating \"ảo\" với mức đánh giá là rating trung bình của toàn bộ dataset, ta dễ thấy khi số lượng rating càng nhiều thì rating của các bộ phim sẽ không còn chịu ảnh hưởng của giá trị damping này nữa.",
   "metadata": {
    "id": "DXUCAWtqF8JM",
    "cell_id": "00014-4a659692-fb17-43fd-92d8-969cfa408c7a",
    "deepnote_cell_type": "markdown"
   }
  },
  {
   "cell_type": "code",
   "metadata": {
    "id": "2tvTpsUGU0_u",
    "cell_id": "00015-d3e9ad6a-353a-424d-9f40-a09ecfd55f55",
    "deepnote_cell_type": "code"
   },
   "source": "# Khởi tạo giá trị damping\ndamping = 5",
   "execution_count": null,
   "outputs": []
  },
  {
   "cell_type": "code",
   "metadata": {
    "colab": {
     "base_uri": "https://localhost:8080/"
    },
    "id": "MC1tDObhU6Zr",
    "outputId": "61b95155-fcac-4097-dfd5-31621e34c9ca",
    "cell_id": "00016-7ed0c042-578f-4887-8419-2898800ef1f2",
    "deepnote_cell_type": "code"
   },
   "source": "globalSumRating = ratings['rating'].sum()\nglobalCountRating = ratings['rating'].count()\nprint(globalSumRating, globalCountRating)",
   "execution_count": null,
   "outputs": [
    {
     "output_type": "stream",
     "text": "926842.0 264505\n",
     "name": "stdout"
    }
   ]
  },
  {
   "cell_type": "code",
   "metadata": {
    "colab": {
     "base_uri": "https://localhost:8080/"
    },
    "id": "MXbpbuEDVPiw",
    "outputId": "63572820-dc26-488e-b295-bf7d53da6399",
    "cell_id": "00017-e6f06d97-79c6-4723-a945-9a72697a5b7e",
    "deepnote_cell_type": "code"
   },
   "source": "# Rating trung bình của toàn bộ dataset\nalpha = globalSumRating / globalCountRating\nprint(alpha)",
   "execution_count": null,
   "outputs": [
    {
     "output_type": "stream",
     "text": "3.504062305060396\n",
     "name": "stdout"
    }
   ]
  },
  {
   "cell_type": "code",
   "metadata": {
    "id": "7TdkGu_3VW48",
    "cell_id": "00018-75b718ee-b9e0-45a0-99be-0ffda77f5938",
    "deepnote_cell_type": "code"
   },
   "source": "# Tính tổng rating + phần rating ảo thêm vào\ndampingSumRatingPerIten = sumRatingPerItem + damping * alpha",
   "execution_count": null,
   "outputs": []
  },
  {
   "cell_type": "code",
   "metadata": {
    "id": "6yGfgp1JV0SW",
    "cell_id": "00019-14fb9738-4539-47fc-b400-46eee7682455",
    "deepnote_cell_type": "code"
   },
   "source": "# Tính số lượt đánh giá + số lượt đánh giá ảo được thêm vào\ndampingCountPerItem = countPerItem + damping",
   "execution_count": null,
   "outputs": []
  },
  {
   "cell_type": "code",
   "metadata": {
    "id": "iIc8TqRKWABf",
    "cell_id": "00020-ee0d5a0c-312d-4e32-9ba2-c7291da80201",
    "deepnote_cell_type": "code"
   },
   "source": "sortDampingItem = (dampingSumRatingPerIten / dampingCountPerItem).sort_values(ascending = False)",
   "execution_count": null,
   "outputs": []
  },
  {
   "cell_type": "code",
   "metadata": {
    "id": "LXR7_wHTWusW",
    "cell_id": "00021-158feabc-7690-4628-abbd-eca85718789b",
    "deepnote_cell_type": "code"
   },
   "source": "dampingRecommendItem = sortDampingItem.iloc[:10].to_dict()",
   "execution_count": null,
   "outputs": []
  },
  {
   "cell_type": "code",
   "metadata": {
    "colab": {
     "base_uri": "https://localhost:8080/"
    },
    "id": "8l90iOWMW5nW",
    "outputId": "a7b81a28-6243-4935-8b75-63e88273adb5",
    "cell_id": "00022-be59b9cc-53d7-4d75-bbe9-528d047a95fc",
    "deepnote_cell_type": "code"
   },
   "source": "# Các bộ phim được đề xuất dựa trên damping- mean, ở đây chúng ta sẽ thấy một số\n# phim đã không còn xuất hiện trong danh sách đề xuất.\ndampingRecommendItem.keys()",
   "execution_count": null,
   "outputs": [
    {
     "output_type": "execute_result",
     "data": {
      "text/plain": "dict_keys([318, 858, 2959, 1203, 296, 7502, 1221, 1248, 2571, 4226])"
     },
     "metadata": {},
     "execution_count": 39
    }
   ]
  },
  {
   "cell_type": "code",
   "metadata": {
    "id": "uP4dT6FmDtBl",
    "cell_id": "00023-335b48f8-9fa5-4400-b163-29f9e33b2a23",
    "deepnote_cell_type": "code"
   },
   "source": "referenceItem = 260",
   "execution_count": null,
   "outputs": []
  },
  {
   "cell_type": "code",
   "metadata": {
    "id": "_TUPdymRDzeg",
    "cell_id": "00024-890033ab-35ec-400c-b30b-96a351c3cca8",
    "deepnote_cell_type": "code"
   },
   "source": "candidate = ratings[ratings['movieId'] == referenceItem]",
   "execution_count": null,
   "outputs": []
  },
  {
   "cell_type": "code",
   "metadata": {
    "colab": {
     "base_uri": "https://localhost:8080/"
    },
    "id": "MyIHVJBKGviT",
    "outputId": "a7c58513-6b78-4fbf-d0be-6130e177f086",
    "cell_id": "00025-0a64eefa-d25d-436e-856f-1a0f9eacff4a",
    "deepnote_cell_type": "code"
   },
   "source": "len(candidate)",
   "execution_count": null,
   "outputs": [
    {
     "output_type": "execute_result",
     "data": {
      "text/plain": "535"
     },
     "metadata": {},
     "execution_count": 5
    }
   ]
  },
  {
   "cell_type": "code",
   "metadata": {
    "id": "shi9khG-H9Yi",
    "cell_id": "00026-53e2af5f-8b69-46a9-a3bb-db8dfc725a59",
    "deepnote_cell_type": "code"
   },
   "source": "userList = list(candidate['userId'].values)",
   "execution_count": null,
   "outputs": []
  },
  {
   "cell_type": "code",
   "metadata": {
    "id": "bhZH-jDOImcx",
    "cell_id": "00027-cd13c3ea-2617-4cc9-bee1-1f3331d22257",
    "deepnote_cell_type": "code"
   },
   "source": "ratingList = ratings[ratings['userId'].isin(userList)]",
   "execution_count": null,
   "outputs": []
  },
  {
   "cell_type": "code",
   "metadata": {
    "colab": {
     "base_uri": "https://localhost:8080/"
    },
    "id": "iovllCmmIz6B",
    "outputId": "6baa6db8-0cd7-4285-8c3c-ddd797165c8f",
    "cell_id": "00028-34487b34-ab72-44c6-849c-5533ca883e57",
    "deepnote_cell_type": "code"
   },
   "source": "set(ratingList['userId'].values) == set(userList)",
   "execution_count": null,
   "outputs": [
    {
     "output_type": "execute_result",
     "data": {
      "text/plain": "True"
     },
     "metadata": {},
     "execution_count": 65
    }
   ]
  },
  {
   "cell_type": "code",
   "metadata": {
    "id": "E9y7yQ6UI3tl",
    "cell_id": "00029-00bddfb9-f671-4da4-92c7-ebda883e4df1",
    "deepnote_cell_type": "code"
   },
   "source": "referenceItemCount = ratingList.groupby('movieId')['rating'].count()",
   "execution_count": null,
   "outputs": []
  },
  {
   "cell_type": "code",
   "metadata": {
    "colab": {
     "base_uri": "https://localhost:8080/"
    },
    "id": "AQoViyJoJGkZ",
    "outputId": "7f5cde0d-1a9c-4fa2-a6ad-90b0b33ca06e",
    "cell_id": "00030-425c2ef5-af53-4a62-afe2-a871f056646e",
    "deepnote_cell_type": "code"
   },
   "source": "referenceItemCount.max()",
   "execution_count": null,
   "outputs": [
    {
     "output_type": "execute_result",
     "data": {
      "text/plain": "535"
     },
     "metadata": {},
     "execution_count": 12
    }
   ]
  },
  {
   "cell_type": "code",
   "metadata": {
    "id": "qq9BzcwzJJAj",
    "cell_id": "00031-34b26e0d-6217-49b4-9e0b-92a16dc58f13",
    "deepnote_cell_type": "code"
   },
   "source": "confidence = (referenceItemCount / referenceItemCount[referenceItem]).sort_values(ascending = False)",
   "execution_count": null,
   "outputs": []
  },
  {
   "cell_type": "code",
   "metadata": {
    "colab": {
     "base_uri": "https://localhost:8080/"
    },
    "id": "fnBeX2TWJbcZ",
    "outputId": "18ddda4f-d1db-4809-87b7-b47679fda986",
    "cell_id": "00032-e84b8ae6-d85b-4102-b262-65c02c0d1cfb",
    "deepnote_cell_type": "code"
   },
   "source": "confidence[1:10].to_dict().keys()",
   "execution_count": null,
   "outputs": [
    {
     "output_type": "execute_result",
     "data": {
      "text/plain": "dict_keys([2571, 1196, 4993, 1210, 356, 5952, 7153, 296, 1198])"
     },
     "metadata": {},
     "execution_count": 17
    }
   ]
  },
  {
   "cell_type": "markdown",
   "source": "Đề xuất sử dụng **association rule**:\n- Ta thường gặp đề xuất dạng: \"Những người đã xem bộ phim **A** thì họ thường xem bộ phim **B**. Ở đây ta sẽ xây dựng các đề xuất dựa trên những luật như vậy dựa trên 2 giá trị là confidence và lift.\n- Confidence({A}->{B}) = $P(B | A)$ được tính như sau:\n$$ P(B | A) = \\frac{P(A \\cap B)}{P(A)}$$ \n- Lift({A} -> {B}):\n$$s(B|A) = \\frac {P(A \\cap B)} {P(A) P(B)}$$",
   "metadata": {
    "id": "jXDn09tQKC98",
    "cell_id": "00033-3d2a1227-5d27-4e06-8cfe-7cff5ad8703e",
    "deepnote_cell_type": "markdown"
   }
  },
  {
   "cell_type": "code",
   "metadata": {
    "id": "zTxOB-FqM1sz",
    "cell_id": "00034-e108176a-af9b-4a97-b7e0-4d7b46d217be",
    "deepnote_cell_type": "code"
   },
   "source": "def recommendByConfidence(ratings, referenceItem, topK=5):\n  userList = list(ratings[ratings['movieId'] == referenceItem]['userId'].values)\n  ratingSubset = ratings[ratings['userId'].isin(userList)]\n  intersectItemCount = ratingSubset.groupby('movieId')['rating'].count()\n  confidence = (intersectItemCount / intersectItemCount[referenceItem]).sort_values(ascending = False)\n  return list(confidence[1: topK + 1].to_dict().keys())",
   "outputs": [],
   "execution_count": null
  },
  {
   "cell_type": "code",
   "metadata": {
    "colab": {
     "base_uri": "https://localhost:8080/"
    },
    "id": "GCEswT4rLw-S",
    "outputId": "4cc92427-5eb4-423f-eca8-234ad0285d4d",
    "cell_id": "00035-2abc6c87-b6de-47c3-aae4-dc490cb4b544",
    "deepnote_cell_type": "code"
   },
   "source": "recommendByConfidence(ratings, 260)",
   "outputs": [
    {
     "output_type": "execute_result",
     "data": {
      "text/plain": "[2571, 1196, 4993, 1210, 356]"
     },
     "metadata": {},
     "execution_count": 70
    }
   ],
   "execution_count": null
  },
  {
   "cell_type": "code",
   "metadata": {
    "id": "Fi4_89YrOZlM",
    "cell_id": "00036-50d8fc1c-66fc-45d6-966f-05c68a89a9e6",
    "deepnote_cell_type": "code"
   },
   "source": "def recommendByLift(ratings, referenceItem, topK=5):\n  userList = list(ratings[ratings['movieId'] == referenceItem]['userId'].values)\n  ratingIntersectSubset = ratings[ratings['userId'].isin(userList)]\n  intersectItemCount = ratingIntersectSubset.groupby('movieId')['rating'].count()\n  movieList = list(set(ratingIntersectSubset['movieId'].values))\n  ratingCandidateSubset = ratings[ratings['movieId'].isin(movieList)]\n  itemCount = ratingCandidateSubset.groupby('movieId')['rating'].count()\n  total = len(set(ratings['userId'].values))\n  print(total)\n  lift = (intersectItemCount * total / (itemCount * intersectItemCount[referenceItem])).sort_values(ascending = False)\n  print(lift[1:topK + 1])\n  return list(lift[1: topK + 1].to_dict().keys())",
   "outputs": [],
   "execution_count": null
  },
  {
   "cell_type": "code",
   "metadata": {
    "colab": {
     "base_uri": "https://localhost:8080/"
    },
    "id": "dZnDKfSTMFe9",
    "outputId": "511003cf-7934-45ad-d10c-3f97fb2d8c1a",
    "cell_id": "00037-4e29a5e8-f67a-40b1-bb4f-94eda9feba07",
    "deepnote_cell_type": "code"
   },
   "source": "recommendByLift(ratings, 2761)",
   "outputs": [
    {
     "output_type": "stream",
     "text": "862\nmovieId\n631     4.897727\n2532    4.810268\n3615    4.545703\n2439    4.489583\n1016    4.489583\nName: rating, dtype: float64\n",
     "name": "stdout"
    },
    {
     "output_type": "execute_result",
     "data": {
      "text/plain": "[631, 2532, 3615, 2439, 1016]"
     },
     "metadata": {},
     "execution_count": 73
    }
   ],
   "execution_count": null
  },
  {
   "cell_type": "markdown",
   "source": "<a style='text-decoration:none;line-height:16px;display:flex;color:#5B5B62;padding:10px;justify-content:end;' href='https://deepnote.com?utm_source=created-in-deepnote-cell&projectId=4bbe8670-1988-45e1-9d48-0c1f37998614' target=\"_blank\">\n<img alt='Created in deepnote.com' style='display:inline;max-height:16px;margin:0px;margin-right:7.5px;' src='data:image/svg+xml;base64,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' > </img>\nCreated in <span style='font-weight:600;margin-left:4px;'>Deepnote</span></a>",
   "metadata": {
    "tags": [],
    "created_in_deepnote_cell": true,
    "deepnote_cell_type": "markdown"
   }
  }
 ],
 "nbformat": 4,
 "nbformat_minor": 0,
 "metadata": {
  "colab": {
   "name": "Non-Personalized Recommernder.ipynb",
   "provenance": []
  },
  "kernelspec": {
   "name": "python3",
   "display_name": "Python 3"
  },
  "language_info": {
   "name": "python"
  },
  "deepnote_notebook_id": "b033b3e3-9971-473c-a4bd-96d99b5e29d8",
  "deepnote": {},
  "deepnote_execution_queue": []
 }
}